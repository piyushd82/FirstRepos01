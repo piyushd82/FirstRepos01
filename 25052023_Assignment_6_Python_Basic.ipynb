{
 "cells": [
  {
   "cell_type": "code",
   "execution_count": 2,
   "id": "90c272ef",
   "metadata": {},
   "outputs": [
    {
     "name": "stdout",
     "output_type": "stream",
     "text": [
      "['False', 'None', 'True', 'and', 'as', 'assert', 'async', 'await', 'break', 'class', 'continue', 'def', 'del', 'elif', 'else', 'except', 'finally', 'for', 'from', 'global', 'if', 'import', 'in', 'is', 'lambda', 'nonlocal', 'not', 'or', 'pass', 'raise', 'return', 'try', 'while', 'with', 'yield']\n"
     ]
    }
   ],
   "source": [
    "#Q.1. What are keywords in python? Using the keyword library, print all the python keywords.\n",
    "# Import the library keyword to kernel\n",
    "import keyword\n",
    "#Call the kwlist from imported library it will list all keyword reserved in Python\n",
    "print(keyword.kwlist)\n"
   ]
  },
  {
   "cell_type": "code",
   "execution_count": 4,
   "id": "fd1cecf2",
   "metadata": {},
   "outputs": [
    {
     "ename": "SyntaxError",
     "evalue": "invalid decimal literal (446150787.py, line 8)",
     "output_type": "error",
     "traceback": [
      "\u001b[1;36m  Cell \u001b[1;32mIn[4], line 8\u001b[1;36m\u001b[0m\n\u001b[1;33m    1A = 5 # Not allowed as first char is number\u001b[0m\n\u001b[1;37m    ^\u001b[0m\n\u001b[1;31mSyntaxError\u001b[0m\u001b[1;31m:\u001b[0m invalid decimal literal\n"
     ]
    }
   ],
   "source": [
    "#Q.2. What are the rules to create variables in python?\n",
    "#Variable used to hold value for data type it can be:\n",
    "#Any alphanueric digits can be used for that\n",
    "#First char should not be number\n",
    "#Avoid using keywords\n",
    "#Use '_' as first char as per program need\n",
    "\n",
    "try = true # Not allowed as it from keyword list\n",
    "1A = 5 # Not allowed as first char is number\n",
    "\n",
    "\n"
   ]
  },
  {
   "cell_type": "code",
   "execution_count": null,
   "id": "ffd3ceeb",
   "metadata": {},
   "outputs": [],
   "source": [
    "Q.3. What are the standards and conventions followed for the nomenclature of variables in\n",
    "python to improve code readability and maintainability?\n",
    "# It should be in lower case\n",
    "# Descriptive and meaningful along with suffix and prefix where ever applicable\n",
    "#Avoid using keyword for a variable\n",
    "#Avoid using '_' at begining unless and unit it is demand of program. As underscore lead towards visibility of the variable"
   ]
  },
  {
   "cell_type": "code",
   "execution_count": 5,
   "id": "596711c5",
   "metadata": {},
   "outputs": [
    {
     "ename": "SyntaxError",
     "evalue": "cannot assign to None (695140216.py, line 3)",
     "output_type": "error",
     "traceback": [
      "\u001b[1;36m  Cell \u001b[1;32mIn[5], line 3\u001b[1;36m\u001b[0m\n\u001b[1;33m    None = 2\u001b[0m\n\u001b[1;37m    ^\u001b[0m\n\u001b[1;31mSyntaxError\u001b[0m\u001b[1;31m:\u001b[0m cannot assign to None\n"
     ]
    }
   ],
   "source": [
    "Q.4. What will happen if a keyword is used as a variable name?\n",
    "\n",
    "None = 2 # Not allowed \n"
   ]
  },
  {
   "cell_type": "code",
   "execution_count": 8,
   "id": "d9ec5d3c",
   "metadata": {},
   "outputs": [
    {
     "name": "stdout",
     "output_type": "stream",
     "text": [
      "Object `used` not found.\n"
     ]
    },
    {
     "data": {
      "text/plain": [
       "25"
      ]
     },
     "execution_count": 8,
     "metadata": {},
     "output_type": "execute_result"
    }
   ],
   "source": [
    "Q.5. For what purpose def keyword is used?\n",
    "# it is used for initialize a function e.g.\n",
    "\n",
    "def add_2_no(a,b):\n",
    "    return a+b\n",
    "\n",
    "add_2_no(12,13)"
   ]
  },
  {
   "cell_type": "code",
   "execution_count": 11,
   "id": "3bb84ae9",
   "metadata": {},
   "outputs": [
    {
     "name": "stdout",
     "output_type": "stream",
     "text": [
      "98139\n"
     ]
    }
   ],
   "source": [
    "#Q.6. What is the operation of this special character ‘\\’?\n",
    "# it is used facilate long expression value (Line continuation). it will tell compiler that expression extedned to next line and program will continue evaluating details instead throwing excpetion\n",
    "\n",
    "a = 12+12+13+45 \\\n",
    "+34+45+7888+90 \\\n",
    "+10000 + 80000\n",
    "\n",
    "print(a)"
   ]
  },
  {
   "cell_type": "code",
   "execution_count": 14,
   "id": "98a91865",
   "metadata": {},
   "outputs": [],
   "source": [
    "#Q.7. Give an example of the following conditions:\n",
    "\n",
    "#(i) Homogeneous list\n",
    "hom_lst1 = [1,2,3,4,5,6] #Example all integer list\n",
    "hom_lst1 = ['Apple', 'Mango', 'Banana', 'Grapes'] # List of all fruits\n",
    "#(ii) Heterogeneous set\n",
    "het_set ={'q', 3.24, 1, True} # Set comprise of various data types\n",
    "#(iii) Homogeneous tuple\n",
    "hom_typ = ['Apple', 'Mango', 'Banana', 'Grapes'] # Tuple of all fruits\n"
   ]
  },
  {
   "cell_type": "code",
   "execution_count": 22,
   "id": "eebbd1e4",
   "metadata": {},
   "outputs": [
    {
     "name": "stdout",
     "output_type": "stream",
     "text": [
      "[1, 4, 3, 'a']\n",
      "SampleString\n"
     ]
    }
   ],
   "source": [
    "#Q.8. Explain the mutable and immutable data types with proper explanation & examples.\n",
    "\n",
    "#Mutable : it can be modified, Alteration of that data type will not crate a new object(Allocation of memory)\n",
    "samp_lst1 = [1,2,3]\n",
    "samp_lst1.append('a')\n",
    "samp_lst1[1] = 4\n",
    "print(samp_lst1)\n",
    "\n",
    "#Immutable : it can't be modified after creation/initalization, Alteration of that data type will create a new object(Allocation of memory)\n",
    "samp_tup = (1,2,3,4,5)\n",
    "a = 'Sample'\n",
    "a += \"String\" # it will create altogether new string \n",
    "\n",
    "print(a)"
   ]
  },
  {
   "cell_type": "code",
   "execution_count": 34,
   "id": "4db1f263",
   "metadata": {},
   "outputs": [
    {
     "name": "stdout",
     "output_type": "stream",
     "text": [
      "*\n",
      "***\n",
      "*****\n",
      "*******\n",
      "*********\n",
      "***********\n"
     ]
    }
   ],
   "source": [
    "#Q.9. Write a code to create the given structure using only for loop.\n",
    "#*\n",
    "#***\n",
    "#*****\n",
    "#*******\n",
    "#********\n",
    "a = 6\n",
    "\n",
    "for i in range(1, a+1):\n",
    "    print('*' * (2*i -1))\n",
    "    "
   ]
  },
  {
   "cell_type": "code",
   "execution_count": 29,
   "id": "a5f7e93b",
   "metadata": {},
   "outputs": [
    {
     "name": "stdout",
     "output_type": "stream",
     "text": [
      "|||||||||\n",
      "|||||||\n",
      "|||||\n",
      "|||\n",
      "|\n"
     ]
    }
   ],
   "source": [
    "#Q.10. Write a code to create the given structure using while loop.\n",
    "#|||||||||\n",
    "#|||||||\n",
    "#|||||\n",
    "#|||\n",
    "#|\n",
    "\n",
    "i =9 \n",
    "while i > 0:\n",
    "    print('|' * i)\n",
    "    i = i-2"
   ]
  },
  {
   "cell_type": "code",
   "execution_count": null,
   "id": "350b6bc1",
   "metadata": {},
   "outputs": [],
   "source": []
  }
 ],
 "metadata": {
  "kernelspec": {
   "display_name": "Python 3 (ipykernel)",
   "language": "python",
   "name": "python3"
  },
  "language_info": {
   "codemirror_mode": {
    "name": "ipython",
    "version": 3
   },
   "file_extension": ".py",
   "mimetype": "text/x-python",
   "name": "python",
   "nbconvert_exporter": "python",
   "pygments_lexer": "ipython3",
   "version": "3.10.9"
  }
 },
 "nbformat": 4,
 "nbformat_minor": 5
}
