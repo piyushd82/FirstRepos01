{
 "cells": [
  {
   "cell_type": "code",
   "execution_count": 1,
   "id": "7252ff2d",
   "metadata": {},
   "outputs": [
    {
     "name": "stdout",
     "output_type": "stream",
     "text": [
      "Object `function` not found.\n",
      "0.8\n"
     ]
    }
   ],
   "source": [
    "#1. What is a lambda function in Python, and how does it differ from a regular function?\n",
    "#It is small/onliner function. It will be used to replace commonly used code with function. So change at one place applicable to all instance\n",
    "\n",
    "a = lambda x,y : x/y\n",
    "\n",
    "result = a(4,5)\n",
    "\n",
    "print (result)\n"
   ]
  },
  {
   "cell_type": "code",
   "execution_count": 2,
   "id": "f367922a",
   "metadata": {},
   "outputs": [
    {
     "name": "stdout",
     "output_type": "stream",
     "text": [
      "9\n"
     ]
    }
   ],
   "source": [
    "#2. Can a lambda function in Python have multiple arguments? If yes, how can you define and use them?\n",
    "#Yes multiple arguments passed in lambda function for perfroming any operation associated with it\n",
    "\n",
    "b = lambda x,y : x+y\n",
    "\n",
    "result = b(4,5)\n",
    "\n",
    "print (result)"
   ]
  },
  {
   "cell_type": "code",
   "execution_count": 4,
   "id": "8a373928",
   "metadata": {},
   "outputs": [
    {
     "name": "stdout",
     "output_type": "stream",
     "text": [
      "1024\n"
     ]
    }
   ],
   "source": [
    "#3. How are lambda functions typically used in Python? Provide an example use case.\n",
    "#It is smaller implementation which frequently used in program. for ease if you change a function same applicable at all places \n",
    "\n",
    "c = lambda x,y : x**y\n",
    "\n",
    "result = c(4,5)\n",
    "\n",
    "print (result)\n"
   ]
  },
  {
   "cell_type": "code",
   "execution_count": null,
   "id": "2841d09e",
   "metadata": {},
   "outputs": [],
   "source": [
    "#4. What are the advantages and limitations of lambda functions compared to regular functions in Python?\n",
    "#It is used for small code snippets on the other hand regular function carry complex and larger logic to get executed\n"
   ]
  },
  {
   "cell_type": "code",
   "execution_count": 7,
   "id": "23f58b67",
   "metadata": {},
   "outputs": [
    {
     "name": "stdout",
     "output_type": "stream",
     "text": [
      "First execution  7\n",
      "Second execution  9\n"
     ]
    }
   ],
   "source": [
    "#5. Are lambda functions in Python able to access variables defined outside of their own scope? Explain with an example.\n",
    "\n",
    "#Yes, It can use variable defined outside lambda function. It will treat it as global scope variable \n",
    "\n",
    "y =3\n",
    "\n",
    "e = lambda x: x + y\n",
    "\n",
    "print('First execution ', e(4)) # it is using defined value\n",
    "\n",
    "y =5\n",
    "\n",
    "print('Second execution ', e(4)) # It is sourcing updated value here \n"
   ]
  },
  {
   "cell_type": "code",
   "execution_count": 5,
   "id": "ff90c2a4",
   "metadata": {},
   "outputs": [
    {
     "name": "stdout",
     "output_type": "stream",
     "text": [
      "25\n"
     ]
    }
   ],
   "source": [
    "#6.Write a lambda function to calculate the square of a given number.\n",
    "\n",
    "d = lambda x : x*x\n",
    "\n",
    "result = d(5)\n",
    "\n",
    "print (result)\n"
   ]
  },
  {
   "cell_type": "code",
   "execution_count": 4,
   "id": "8ebd4bb4",
   "metadata": {},
   "outputs": [
    {
     "name": "stdout",
     "output_type": "stream",
     "text": [
      "9\n"
     ]
    }
   ],
   "source": [
    "#7. Create a lambda function to find the maximum value in a list of integers.\n",
    "\n",
    "f = lambda ls: max(ls)\n",
    "\n",
    "print(f([1,2,9,4,5,6]))\n"
   ]
  },
  {
   "cell_type": "code",
   "execution_count": 3,
   "id": "10d7131b",
   "metadata": {},
   "outputs": [
    {
     "name": "stdout",
     "output_type": "stream",
     "text": [
      "[2, 4, 6, 8, 10, 12]\n"
     ]
    }
   ],
   "source": [
    "#8. Implement a lambda function to filter out all the even numbers from a list of integers.\n",
    "\n",
    "lst = [1,2,3,4,5,6,7,8,9,10,11,12,13]\n",
    "\n",
    "evn_no = list(filter(lambda x: x % 2 == 0, lst) )\n",
    "\n",
    "print(evn_no)\n"
   ]
  },
  {
   "cell_type": "code",
   "execution_count": 10,
   "id": "c81c0a6d",
   "metadata": {},
   "outputs": [
    {
     "name": "stdout",
     "output_type": "stream",
     "text": [
      "['guiter', 'piano', '23', 'mouthorgan', 'violin', 'sitar']\n"
     ]
    }
   ],
   "source": [
    "# 9. Write a lambda function to sort a list of strings in ascending order based on the length of each string.\n",
    "\n",
    "lst = ['guiter', 'piano', '23','mouthorgan','violin', 'sitar']\n",
    "lst.sort(key=lambda x: len(lst))\n",
    "print(lst)\n"
   ]
  },
  {
   "cell_type": "code",
   "execution_count": 13,
   "id": "da12ebfc",
   "metadata": {},
   "outputs": [
    {
     "name": "stdout",
     "output_type": "stream",
     "text": [
      "[4, 5, 6]\n"
     ]
    }
   ],
   "source": [
    "#10. Create a lambda function that takes two lists as input and returns a new list containing the common elements between the two lists.\n",
    "lst1 = [1,2,3,4,5,6]\n",
    "lst2 = [4,5,6,7,8,9]\n",
    "\n",
    "comnele = lambda  x,y : list(set(x) & set(y))\n",
    "\n",
    "print(comnele(lst1,lst2))"
   ]
  },
  {
   "cell_type": "code",
   "execution_count": 25,
   "id": "2888f319",
   "metadata": {},
   "outputs": [
    {
     "name": "stdout",
     "output_type": "stream",
     "text": [
      "Invalid Input\n",
      "120\n"
     ]
    }
   ],
   "source": [
    "#11. Write a recursive function to calculate the factorial of a given positive integer.\n",
    "\n",
    "def fact_no(n , a):\n",
    "    \n",
    "    if type(n) == int and n > 0:\n",
    "        while n > 0:\n",
    "            a = a * n\n",
    "            n = n-1\n",
    "            #print('value of n ', n)\n",
    "            fact_no(n , a)\n",
    "    else:\n",
    "        return 'Invalid Input'\n",
    "    return a\n",
    "\n",
    "value = fact_no(-1, 1)\n",
    "print(value)\n",
    "b = 5*4*3*2*1\n",
    "print(b)"
   ]
  },
  {
   "cell_type": "code",
   "execution_count": 53,
   "id": "11611a01",
   "metadata": {},
   "outputs": [
    {
     "name": "stdout",
     "output_type": "stream",
     "text": [
      "[0, 1, 1, 2, 3, 5, 8, 13]\n"
     ]
    }
   ],
   "source": [
    "#12. Implement a recursive function to compute the nth Fibonacci number.\n",
    "\n",
    "def feb_series(a, ls):\n",
    "    \"\"\"To generate the fibonacci series is recusrsive manner\"\"\"\n",
    "    if a > 0:\n",
    "        n = len(ls)\n",
    "        a = a-1\n",
    "        if n == 0: \n",
    "            ls.append(0)\n",
    "            feb_series( a, ls)\n",
    "        elif n == 1:\n",
    "            ls.append(1)\n",
    "            feb_series(a, ls)\n",
    "        else:\n",
    "            nxtNo = ls[n-1] + ls[n-2]\n",
    "            ls.append(nxtNo)\n",
    "            feb_series( a , ls)\n",
    "    elif a == 1 and len(ls) == 0:\n",
    "        ls.append(0)\n",
    "    \n",
    "    return ls\n",
    "\n",
    "#Execution body \n",
    "feb_lst = list()\n",
    "feb_series(8, feb_lst)\n",
    "\n",
    "print(feb_lst)\n",
    "            \n",
    "        \n",
    "feb_lst.pop            \n"
   ]
  },
  {
   "cell_type": "code",
   "execution_count": 62,
   "id": "19cdeb54",
   "metadata": {},
   "outputs": [
    {
     "name": "stdout",
     "output_type": "stream",
     "text": [
      "21\n"
     ]
    }
   ],
   "source": [
    "#13. Create a recursive function to find the sum of all the elements in a given list.\n",
    "\n",
    "def calculateSum(ls, a = 0):\n",
    "    \"\"\"To sum up all element in a list \"\"\"\n",
    "    n = len(ls)\n",
    "    if n > 0:\n",
    "        a += ls.pop()\n",
    "        return calculateSum(ls, a)\n",
    "    else :\n",
    "        return a\n",
    "\n",
    "result = calculateSum([1,2,3,4,5,6])\n",
    "print(result)    "
   ]
  },
  {
   "cell_type": "code",
   "execution_count": 67,
   "id": "07271990",
   "metadata": {},
   "outputs": [
    {
     "name": "stdout",
     "output_type": "stream",
     "text": [
      "True\n",
      "False\n"
     ]
    }
   ],
   "source": [
    "#14. Write a recursive function to determine whether a given string is a palindrome.\n",
    "\n",
    "def checkPalindrome(s):\n",
    "    \n",
    "    if len(s) <=1:\n",
    "        return True\n",
    "    \n",
    "    if s[0] == s[-1]:\n",
    "        return checkPalindrome(s[1:-1])\n",
    "    \n",
    "    return False\n",
    "\n",
    "print(checkPalindrome('radar'))\n",
    "print(checkPalindrome('piyush'))\n",
    "\n"
   ]
  },
  {
   "cell_type": "code",
   "execution_count": 73,
   "id": "633258da",
   "metadata": {},
   "outputs": [
    {
     "name": "stdout",
     "output_type": "stream",
     "text": [
      "1\n",
      "27\n",
      "9\n",
      "1\n"
     ]
    }
   ],
   "source": [
    "#15. Implement a recursive function to find the greatest common divisor (GCD) of two positive integers.\n",
    "\n",
    "def findGCD(a,b):\n",
    "    \n",
    "    if b == 0:\n",
    "        return a\n",
    "    \n",
    "    return findGCD(b, a%b)\n",
    "\n",
    "print(findGCD(91, 3))\n",
    "print(findGCD(81, 27))\n",
    "print(findGCD(99, 9))\n",
    "print(findGCD(1000, 27))\n",
    "\n"
   ]
  },
  {
   "cell_type": "code",
   "execution_count": null,
   "id": "141c7147",
   "metadata": {},
   "outputs": [],
   "source": []
  }
 ],
 "metadata": {
  "kernelspec": {
   "display_name": "Python 3 (ipykernel)",
   "language": "python",
   "name": "python3"
  },
  "language_info": {
   "codemirror_mode": {
    "name": "ipython",
    "version": 3
   },
   "file_extension": ".py",
   "mimetype": "text/x-python",
   "name": "python",
   "nbconvert_exporter": "python",
   "pygments_lexer": "ipython3",
   "version": "3.10.9"
  }
 },
 "nbformat": 4,
 "nbformat_minor": 5
}
