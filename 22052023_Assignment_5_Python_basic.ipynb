{
 "cells": [
  {
   "cell_type": "code",
   "execution_count": 4,
   "id": "cca75099",
   "metadata": {},
   "outputs": [
    {
     "name": "stdout",
     "output_type": "stream",
     "text": [
      "{}\n"
     ]
    }
   ],
   "source": [
    "#1. What does an empty dictionary's code look like?\n",
    "\n",
    "empty_dict = {}\n",
    "\n",
    "print(empty_dict)\n"
   ]
  },
  {
   "cell_type": "code",
   "execution_count": 5,
   "id": "ed8c5905",
   "metadata": {},
   "outputs": [
    {
     "name": "stdout",
     "output_type": "stream",
     "text": [
      "42\n"
     ]
    }
   ],
   "source": [
    "#2. What is the value of a dictionary value with the key 'foo' and the value 42?\n",
    "sample_dict = {'foo':42}\n",
    "print(sample_dict.get('foo'))\n"
   ]
  },
  {
   "cell_type": "code",
   "execution_count": 13,
   "id": "448d3bcd",
   "metadata": {},
   "outputs": [
    {
     "name": "stdout",
     "output_type": "stream",
     "text": [
      "56.65\n",
      "XXXX\n"
     ]
    }
   ],
   "source": [
    "#3. What is the most significant distinction between a dictionary and a list?\n",
    "#List : Hetrogenous ordered data collection. In list, data postion through Index. Data can be accessed with index\n",
    "#Dictionary: It is data collection which comes with key: value pair and it is unordered. In dictoionay data accessed through unique key\n",
    "\n",
    "sam_lst = ['q', 56.65, 100, '5x', True]\n",
    "print(sam_lst[1])\n",
    "sam_dict = {'nm': 'XXXX', 'lnm':'YYYY', 'Age': 34 }\n",
    "\n",
    "print(sam_dict.get('nm'))\n"
   ]
  },
  {
   "cell_type": "code",
   "execution_count": 15,
   "id": "056fb6be",
   "metadata": {},
   "outputs": [
    {
     "ename": "KeyError",
     "evalue": "'foo'",
     "output_type": "error",
     "traceback": [
      "\u001b[1;31m---------------------------------------------------------------------------\u001b[0m",
      "\u001b[1;31mKeyError\u001b[0m                                  Traceback (most recent call last)",
      "Cell \u001b[1;32mIn[15], line 4\u001b[0m\n\u001b[0;32m      1\u001b[0m \u001b[38;5;66;03m#4. What happens if you try to access spam['foo'] if spam is {'bar': 100}?\u001b[39;00m\n\u001b[0;32m      2\u001b[0m \u001b[38;5;66;03m# It will throw key error 'foo'\u001b[39;00m\n\u001b[0;32m      3\u001b[0m spam \u001b[38;5;241m=\u001b[39m {\u001b[38;5;124m'\u001b[39m\u001b[38;5;124mbar\u001b[39m\u001b[38;5;124m'\u001b[39m : \u001b[38;5;241m100\u001b[39m}\n\u001b[1;32m----> 4\u001b[0m \u001b[38;5;28mprint\u001b[39m(\u001b[43mspam\u001b[49m\u001b[43m[\u001b[49m\u001b[38;5;124;43m'\u001b[39;49m\u001b[38;5;124;43mfoo\u001b[39;49m\u001b[38;5;124;43m'\u001b[39;49m\u001b[43m]\u001b[49m)\n",
      "\u001b[1;31mKeyError\u001b[0m: 'foo'"
     ]
    }
   ],
   "source": [
    "#4. What happens if you try to access spam['foo'] if spam is {'bar': 100}?\n",
    "# It will throw key error 'foo'\n",
    "spam = {'bar' : 100}\n",
    "print(spam['foo'])\n"
   ]
  },
  {
   "cell_type": "code",
   "execution_count": 20,
   "id": "a7adf43b",
   "metadata": {},
   "outputs": [
    {
     "name": "stdout",
     "output_type": "stream",
     "text": [
      "False\n",
      "False\n"
     ]
    }
   ],
   "source": [
    "#5. If a dictionary is stored in spam, what is the difference between the expressions 'cat' in spam and 'cat' in spam.keys()?\n",
    "\n",
    "# cat is spam : will check keys in dictionary\n",
    "\n",
    "# cat in spam.keys(): It will worked in phased way i.e. First methood keys() called over the dictionary to return list of all keys in dictionary and later it will check 'cat' in list\n",
    "\n",
    "#Conclusion : First method is working directly over dictionary on the other second one will create list of keys and than look for key inside retrieved data\n",
    "\n",
    "spam = {'nm': 'XXXX', 'lnm':'YYYY', 'Age': 34 }\n",
    "print('cat' in spam)\n",
    "\n",
    "spam1 = {'nm': 'XXXX', 'lnm':'YYYY', 'Age': 34 }\n",
    "print('cat' in spam1.keys())\n"
   ]
  },
  {
   "cell_type": "code",
   "execution_count": 21,
   "id": "d679297b",
   "metadata": {},
   "outputs": [
    {
     "name": "stdout",
     "output_type": "stream",
     "text": [
      "False\n",
      "True\n"
     ]
    }
   ],
   "source": [
    "#6. If a dictionary is stored in spam, what is the difference between the expressions 'cat' in spam and 'cat' in spam.values()?\n",
    "\n",
    "# cat is spam : will check specified key in dictionary. There is no data collection created for that\n",
    "\n",
    "# cat in spam.values(): It will worked in phased way i.e. First methood values() called over the dictionary to return list of all values from dictionary and later it will check 'cat' in list\n",
    "\n",
    "#Conclusion : First method is working directly over dictionary on the other second one will create list of keys and than look for key\n",
    "\n",
    "spam = {'nm': 'cat', 'lnm':'YYYY', 'Age': 34 }\n",
    "print('cat' in spam)\n",
    "\n",
    "spam1 = {'nm': 'XXXX', 'lnm':'cat', 'Age': 34 }\n",
    "print('cat' in spam1.values())\n"
   ]
  },
  {
   "cell_type": "code",
   "execution_count": 24,
   "id": "47923746",
   "metadata": {},
   "outputs": [
    {
     "name": "stdout",
     "output_type": "stream",
     "text": [
      "{'nm': 'cat', 'lnm': 'YYYY', 'Age': 34, 'color': 'black'}\n",
      "Op of 2nd Iteration {'nm': 'cat', 'lnm': 'YYYY', 'Age': 34, 'color': 'black'}\n"
     ]
    }
   ],
   "source": [
    "#7. What is a shortcut for the following code?\n",
    "#if 'color' not in spam:\n",
    "   # spam['color'] = 'black'\n",
    "#setdefault method can be used, it will check first key in dict. In case data is not there it will add to dict\n",
    "spam.setdefault('color', 'black')\n",
    "print(spam)\n",
    "#Retrying that entry in dict\n",
    "spam.setdefault('color', 'black')\n",
    "print('Op of 2nd Iteration',spam)"
   ]
  },
  {
   "cell_type": "code",
   "execution_count": 25,
   "id": "ee1af0a4",
   "metadata": {},
   "outputs": [
    {
     "name": "stdout",
     "output_type": "stream",
     "text": [
      "Object `function` not found.\n",
      "{'Age': 34, 'color': 'black', 'lnm': 'YYYY', 'nm': 'cat'}\n"
     ]
    }
   ],
   "source": [
    "#8. How do you \"pretty print\" dictionary values using which module and function?\n",
    "#it will used to print data collection in formatted way. pprint module and pprint method used for that\n",
    "import pprint\n",
    "\n",
    "pprint.pprint(spam)"
   ]
  },
  {
   "cell_type": "code",
   "execution_count": null,
   "id": "591d02ca",
   "metadata": {},
   "outputs": [],
   "source": []
  }
 ],
 "metadata": {
  "kernelspec": {
   "display_name": "Python 3 (ipykernel)",
   "language": "python",
   "name": "python3"
  },
  "language_info": {
   "codemirror_mode": {
    "name": "ipython",
    "version": 3
   },
   "file_extension": ".py",
   "mimetype": "text/x-python",
   "name": "python",
   "nbconvert_exporter": "python",
   "pygments_lexer": "ipython3",
   "version": "3.10.9"
  }
 },
 "nbformat": 4,
 "nbformat_minor": 5
}
