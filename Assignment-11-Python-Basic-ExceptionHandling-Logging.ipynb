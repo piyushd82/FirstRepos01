{
 "cells": [
  {
   "cell_type": "code",
   "execution_count": 4,
   "id": "58983ed1",
   "metadata": {},
   "outputs": [
    {
     "name": "stdout",
     "output_type": "stream",
     "text": [
      "Output is  5.0\n",
      "Second Iteration :: It will not go to else block\n",
      "Exception caught in : division by zero\n"
     ]
    }
   ],
   "source": [
    "#1. What is the role of the 'else' block in a try-except statement? Provide an example scenario where it would be useful.\n",
    "# It is optional block which can be put after excpet block. It will executed when there is no excpetion caught in code snippet. It is useful in case you want to put error prone code from normal flow code.\n",
    "def divide(a,b):\n",
    "    try:\n",
    "        result = a/b\n",
    "    except ZeroDivisionError as e:\n",
    "        print('Exception caught in :',e)\n",
    "    else:\n",
    "        print('Output is ', result)\n",
    "\n",
    "divide(10,2)\n",
    "print('Second Iteration :: It will not go to else block')\n",
    "divide(10,0)\n",
    "    "
   ]
  },
  {
   "cell_type": "code",
   "execution_count": 9,
   "id": "dd4e67a3",
   "metadata": {},
   "outputs": [
    {
     "name": "stdout",
     "output_type": "stream",
     "text": [
      "Value of exp  22026.465794806718\n",
      "Inner block No exception caught\n",
      "Outer block No exception caught\n",
      "------------------------\n",
      "Name error :: local variable 'b' referenced before assignment\n",
      "Outer block No exception caught\n",
      "------------------------\n",
      "Value of items  1\n",
      "Value of items  2\n",
      "Value of items  3\n",
      "Value of items  4\n",
      "Value of items  5\n",
      "Value of items  6\n",
      "Value of items  7\n",
      "Value of items  8\n",
      "Value of items  9\n",
      "Index Error ::  list index out of range\n",
      "Outer block No exception caught\n"
     ]
    }
   ],
   "source": [
    "#2. Can a try-except block be nested inside another try-except block? Explain with an example.\n",
    "import math\n",
    "def processInputType(a):\n",
    "    try:\n",
    "        typeDtls = type(a)\n",
    "        try:\n",
    "            if typeDtls == list:\n",
    "                for i in a:\n",
    "                    print('Value of items ', i)\n",
    "                    b = int(i) # Intentioanlly making to get excpetion to be caught\n",
    "                a[len(a) + 1] # Intentioanlly making to get excpetion to be caught   \n",
    "            elif typeDtls == str:\n",
    "                a = b #Intentioanlly making to get excpetion to be caught\n",
    "            elif typeDtls == int:\n",
    "                print('Value of exp ', math.exp(a)) # Intentioanlly making to get excpetion to be caught\n",
    "                \n",
    "        except IndexError as ie:\n",
    "            print('Index Error :: ',ie)\n",
    "        except NameError as ne:\n",
    "            print('Name error ::', ne)\n",
    "        except FloatingPointError as e:\n",
    "            print('Floating point error : ',e)\n",
    "        except OverflowError as ofe:\n",
    "            print('Overflow error : ', ofe)\n",
    "        else:\n",
    "            print('Inner block No exception caught')\n",
    "            \n",
    "            \n",
    "    except ValueError as ve:\n",
    "        print('Value Exception Caught ', ve)\n",
    "    else:\n",
    "        print('Outer block No exception caught')\n",
    "        \n",
    "processInputType(10)\n",
    "print('------------------------')\n",
    "processInputType('Piyush')\n",
    "print('------------------------')\n",
    "processInputType([1,2,3,4,5,6,7,8,9])\n"
   ]
  },
  {
   "cell_type": "code",
   "execution_count": 21,
   "id": "120d9e5c",
   "metadata": {},
   "outputs": [
    {
     "name": "stdout",
     "output_type": "stream",
     "text": [
      "<class 'int'>\n",
      "No exception caught\n",
      "----------------------\n",
      "<class 'str'>\n"
     ]
    },
    {
     "ename": "TypeError",
     "evalue": "catching classes that do not inherit from BaseException is not allowed",
     "output_type": "error",
     "traceback": [
      "\u001b[1;31m---------------------------------------------------------------------------\u001b[0m",
      "\u001b[1;31mTypeError\u001b[0m                                 Traceback (most recent call last)",
      "Cell \u001b[1;32mIn[21], line 12\u001b[0m, in \u001b[0;36mcheckIpType\u001b[1;34m(a)\u001b[0m\n\u001b[0;32m     11\u001b[0m     \u001b[38;5;28;01mif\u001b[39;00m typeDtls \u001b[38;5;241m==\u001b[39m \u001b[38;5;28mstr\u001b[39m:\n\u001b[1;32m---> 12\u001b[0m         \u001b[38;5;28;01mraise\u001b[39;00m custExcp\n\u001b[0;32m     13\u001b[0m \u001b[38;5;28;01mexcept\u001b[39;00m custExcp:\n",
      "\u001b[1;31mTypeError\u001b[0m: exceptions must derive from BaseException",
      "\nDuring handling of the above exception, another exception occurred:\n",
      "\u001b[1;31mTypeError\u001b[0m                                 Traceback (most recent call last)",
      "Cell \u001b[1;32mIn[21], line 23\u001b[0m\n\u001b[0;32m     21\u001b[0m \u001b[38;5;28mprint\u001b[39m(\u001b[38;5;124m'\u001b[39m\u001b[38;5;124m----------------------\u001b[39m\u001b[38;5;124m'\u001b[39m)\n\u001b[0;32m     22\u001b[0m b \u001b[38;5;241m=\u001b[39m \u001b[38;5;124m'\u001b[39m\u001b[38;5;124mvalue\u001b[39m\u001b[38;5;124m'\u001b[39m\n\u001b[1;32m---> 23\u001b[0m \u001b[43mcheckIpType\u001b[49m\u001b[43m(\u001b[49m\u001b[43mb\u001b[49m\u001b[43m)\u001b[49m\n",
      "Cell \u001b[1;32mIn[21], line 13\u001b[0m, in \u001b[0;36mcheckIpType\u001b[1;34m(a)\u001b[0m\n\u001b[0;32m     11\u001b[0m     \u001b[38;5;28;01mif\u001b[39;00m typeDtls \u001b[38;5;241m==\u001b[39m \u001b[38;5;28mstr\u001b[39m:\n\u001b[0;32m     12\u001b[0m         \u001b[38;5;28;01mraise\u001b[39;00m custExcp\n\u001b[1;32m---> 13\u001b[0m \u001b[38;5;28;01mexcept\u001b[39;00m custExcp:\n\u001b[0;32m     14\u001b[0m     \u001b[38;5;28mprint\u001b[39m(\u001b[38;5;124m'\u001b[39m\u001b[38;5;124mCustome excpetion caught \u001b[39m\u001b[38;5;124m'\u001b[39m)\n\u001b[0;32m     15\u001b[0m \u001b[38;5;28;01melse\u001b[39;00m:\n",
      "\u001b[1;31mTypeError\u001b[0m: catching classes that do not inherit from BaseException is not allowed"
     ]
    }
   ],
   "source": [
    "#3. How can you create a custom exception class in Python? Provide an example that demonstrates its usage.\n",
    "#User defined exception initialized by creating the function with exception as argument. To call it we need to use raise keywords in error prone code. Please follow the example\n",
    "def custExcp(Exception):\n",
    "    \"\"\"Custom Exception\"\"\"\n",
    "    pass\n",
    "\n",
    "def checkIpType(a):\n",
    "    try:\n",
    "        typeDtls = type(a)\n",
    "        print(typeDtls)\n",
    "        if typeDtls == str:\n",
    "            raise custExcp\n",
    "    except custExcp:\n",
    "        print('Custome excpetion caught ')\n",
    "    else:\n",
    "        print('No exception caught')\n",
    "\n",
    "\n",
    "\n",
    "checkIpType(10)\n",
    "print('----------------------')\n",
    "b = 'value'\n",
    "checkIpType(b)\n"
   ]
  },
  {
   "cell_type": "markdown",
   "id": "2a74389a",
   "metadata": {},
   "source": [
    "# 4. What are some common exceptions that are built-in to Python?\n",
    "ZeroDivisionError: Raised when the second argument of a division or modulo operation is zero.\n",
    "\n",
    "TypeError: Raised when an operation or function is applied to an object of inappropriate type.\n",
    "\n",
    "ValueError: Raised when a built-in operation or function receives an argument that has the right type but an inappropriate value.\n",
    "\n",
    "IndexError: Raised when a sequence subscript is out of range.\n",
    "\n",
    "KeyError: Raised when a dictionary key is not found.\n",
    "\n",
    "FileNotFoundError: Raised when a file or directory is requested but doesn’t exist.\n",
    "\n",
    "IOError: Raised when an I/O operation (such as a print statement, the built-in open() function or a method of a file object) fails for an I/O-related reason.\n",
    "\n",
    "ImportError: Raised when an import statement fails to find the module definition or when a from ... import fails to find a name that is to be imported.\n",
    "\n",
    "MemoryError: Raised when an operation runs out of memory.\n",
    "\n",
    "OverflowError: Raised when the result of an arithmetic operation is too large to be expressed by the normal number format.\n",
    "\n",
    "AttributeError: Raised when an attribute reference or assignment fails.\n",
    "\n",
    "SyntaxError: Raised when the parser encounters a syntax error.\n",
    "\n",
    "IndentationError: Raised when there is incorrect indentation.\n",
    "\n",
    "NameError: Raised when a local or global name is not found."
   ]
  },
  {
   "cell_type": "markdown",
   "id": "8b5ee441",
   "metadata": {},
   "source": [
    "# 5. What is logging in Python, and why is it important in software development?\n",
    "\"\"\"Logging is a technique for monitoring events that take place when some software is in use.\n",
    "For the creation, operation, and debugging of software, logging is crucial.\n",
    "Logging mechanism help to identify source of issue in terms of logger,error, warning, critical. It also has provisions to include timestamp for better clarity about the incident occurence and frequency too.\n",
    "There are very little odds that you would find the source of the issue if your programme fails and you don't have any logging records.\n",
    "Additionally, it will take a lot of time to identify the cause. \"\"\"\n"
   ]
  },
  {
   "cell_type": "markdown",
   "id": "83726a89",
   "metadata": {},
   "source": [
    "#6. Explain the purpose of log levels in Python logging and provide examples of when each log level would be appropriate.\n",
    "\n",
    "Here are the different log levels in increasing order of severity:\n",
    "\n",
    "DEBUG: it is used to dignose the wrriten code\n",
    "INFO: As name suggested, it is used whether developed code working expected or not\n",
    "WARNING: An indication that something unexpected happened, or may happen in the future. The software is still working as expected.\n",
    "ERROR: More serious problem that prevented the software from performing a function.\n",
    "CRITICAL: A very serious error, indicating that the program itself may be unable to continue running."
   ]
  },
  {
   "cell_type": "code",
   "execution_count": 8,
   "id": "2c6a8a8a",
   "metadata": {},
   "outputs": [
    {
     "name": "stderr",
     "output_type": "stream",
     "text": [
      "DEBUG:root:Input parameters are Piyush  and Doraya\n",
      "INFO:root:String passed in first program joined Piyush Doraya\n",
      "WARNING:root:Sorry Piyush Doraya your age : 17 is below qualifying criterion\n"
     ]
    },
    {
     "name": "stdout",
     "output_type": "stream",
     "text": [
      "Enter your age :17\n",
      "Enter your age :17\n"
     ]
    },
    {
     "name": "stderr",
     "output_type": "stream",
     "text": [
      "WARNING:root:Sorry Piyush Doraya your age : 17 is below qualifying criterion\n",
      "CRITICAL:root:User Piyush Doraya of age 17 is not qualified. It has to vetted further\n"
     ]
    }
   ],
   "source": [
    "import logging\n",
    "\n",
    "\n",
    "logging.basicConfig(level=logging.DEBUG)\n",
    "def joinString(x, y):\n",
    "    logging.debug('Input parameters are %s and %s', x, y)\n",
    "    return x + y\n",
    "\n",
    "result = joinString('Piyush ', 'Doraya')\n",
    "\n",
    "\n",
    "logging.basicConfig(level=logging.INFO)\n",
    "def updateData(z):\n",
    "    logging.info('String passed in first program joined %s', z)\n",
    "\n",
    "updateData(result)\n",
    "\n",
    "logging.basicConfig(level=logging.WARNING)\n",
    "def checkAge( name, age):\n",
    "    if age < 18:\n",
    "        logging.warning('Sorry %s your age : %s is below qualifying criterion', name, age)\n",
    "        return False\n",
    "    else:\n",
    "        return True\n",
    "\n",
    "checkAge(result, 17)\n",
    "\n",
    "logging.basicConfig(level=logging.ERROR)\n",
    "def verifyAge(name):\n",
    "    try:\n",
    "        age = int(input('Enter your age :'))\n",
    "    except ValueError as ve:\n",
    "        logging.error('Dear %s, kindly enter correct data set for verification', name)\n",
    "    else:\n",
    "        return age\n",
    "\n",
    "verifyAge(result)\n",
    "\n",
    "logging.basicConfig(level=logging.CRITICAL)\n",
    "def deviationOnAge(name):\n",
    "    age = verifyAge(name)\n",
    "    flag = checkAge(name, age)\n",
    "    if not flag:\n",
    "        logging.critical('User %s of age %s is not qualified. It has to vetted further', name, age)\n",
    "\n",
    "deviationOnAge(result)\n",
    "    \n",
    "    "
   ]
  },
  {
   "cell_type": "code",
   "execution_count": null,
   "id": "6aeab765",
   "metadata": {},
   "outputs": [],
   "source": [
    "\n",
    "#7. What are log formatters in Python logging, and how can you customise the log message format using formatters?\n",
    "#Log formatter is used to provide better readability of logs. During any event it will provide details such as timestamp and specific message associated with taht event it may be anything i.e. Exception, return value or user defined message too\n",
    "# This format includes the log timestamp, log level and log message\n",
    "handler.setFormatter(logging.Formatter('%(asctime)s:%(levelname)s:%(message)s'))\n"
   ]
  },
  {
   "cell_type": "markdown",
   "id": "5624a2f5",
   "metadata": {},
   "source": [
    "#8. How can you set up logging to capture log messages from multiple modules or classes in a Python application?\n",
    "It can achieved with colloating all logs details in a file. Sequence has to follow:\n",
    "- Create a separate module which has logger code alog with file handler details to store log event\n",
    "- Initialize/import a logger object and level in intended module or class\n",
    "- Initialize the formatter for log and append your logs details to file\n",
    "\n",
    "Above last two steps can be followed in different module for logging events"
   ]
  },
  {
   "cell_type": "markdown",
   "id": "99d1f3b6",
   "metadata": {},
   "source": [
    "# 9. What is the difference between the logging and print statements in Python? When should you use logging over print statements in a real-world application?\n",
    "Print statment can be followed for smaller program while on the other hand if you are working project which require collobration and timely tracking than logger is recommended as it has flexibility for indivdual to visit logged event and take neccesary action as per the conditions. \n",
    "While print statment has to be verify from commad prompt.  Checking and following those is tedious job for complex program/project"
   ]
  },
  {
   "cell_type": "markdown",
   "id": "dce3b78e",
   "metadata": {},
   "source": [
    "# 10. Write a Python program that logs a message to a file named \"app.log\" with the following requirements:\n",
    "\"\"\"\n",
    "● The log message should be \"Hello, World!\"\n",
    "● The log level should be set to \"INFO.\"\n",
    "● The log file should append new log entries without overwriting previous ones. \"\"\"\n"
   ]
  },
  {
   "cell_type": "code",
   "execution_count": 10,
   "id": "1adad764",
   "metadata": {},
   "outputs": [
    {
     "name": "stderr",
     "output_type": "stream",
     "text": [
      "INFO:root:Hello World !! Piyush Doraya\n"
     ]
    },
    {
     "name": "stdout",
     "output_type": "stream",
     "text": [
      "D:\\DS\\Python\\Codebase\\Assignment\\app.log\n"
     ]
    }
   ],
   "source": [
    "import os\n",
    "import logging\n",
    "\n",
    "cwd = os.getcwd()\n",
    "# Specify the directory and file\n",
    "dir_path = os.getcwd()\n",
    "log_file = 'app.log'\n",
    "full_path = os.path.join(dir_path, log_file)\n",
    "# Check if the directory exists and create it if necessary\n",
    "os.makedirs(dir_path, exist_ok=True)\n",
    "\n",
    "# Set up logging\n",
    "# Get a logger instance (this will fetch the root logger)\n",
    "logger = logging.getLogger()\n",
    "\n",
    "# Set the level of the logger to INFO\n",
    "# This means it will handle events of level INFO and above\n",
    "logger.setLevel(logging.INFO)\n",
    "\n",
    "# Create a FileHandler instance to write logs to a file\n",
    "handler = logging.FileHandler(full_path)\n",
    "\n",
    "# Set the format of the logs using a Formatter\n",
    "# This format includes the log timestamp, log level and log message\n",
    "handler.setFormatter(logging.Formatter('%(asctime)s:%(levelname)s:%(message)s'))\n",
    "\n",
    "# Add the handler to the logger\n",
    "# This connects the logger to the handler so that logs get written to the file\n",
    "logger.addHandler(handler)\n",
    "\n",
    "def loggData():\n",
    "    logging.info(\"Hello World !! %s\", result)\n",
    "\n",
    "loggData()\n",
    "    \n",
    "handler.close()"
   ]
  },
  {
   "cell_type": "code",
   "execution_count": 13,
   "id": "bc6f8fc4",
   "metadata": {},
   "outputs": [
    {
     "name": "stdout",
     "output_type": "stream",
     "text": [
      "Enter your age :we\n"
     ]
    },
    {
     "name": "stderr",
     "output_type": "stream",
     "text": [
      "ERROR:root:Dear Piyush Doraya, kindly enter correct data set for verification, Exception encountered invalid literal for int() with base 10: 'we'\n"
     ]
    }
   ],
   "source": [
    "#11. Create a Python program that logs an error message to the console and a file named \"errors.log\" if an exception occurs during the program's execution. The error\n",
    "# message should include the exception type and a timestamp.\n",
    "\n",
    "error_file = 'error.log'\n",
    "full_path1 = os.path.join(dir_path, error_file)\n",
    "# Check if the directory exists and create it if necessary\n",
    "os.makedirs(dir_path, exist_ok=True)\n",
    "\n",
    "# Set up logging\n",
    "# Get a logger instance (this will fetch the root logger)\n",
    "logger1 = logging.getLogger()\n",
    "\n",
    "# Set the level of the logger to INFO\n",
    "# This means it will handle events of level INFO and above\n",
    "logger1.setLevel(logging.ERROR)\n",
    "\n",
    "# Create a FileHandler instance to write logs to a file\n",
    "handler1 = logging.FileHandler(full_path1)\n",
    "\n",
    "# Set the format of the logs using a Formatter\n",
    "# This format includes the log timestamp, log level and log message\n",
    "handler1.setFormatter(logging.Formatter('%(asctime)s:%(levelname)s:%(message)s'))\n",
    "\n",
    "# Add the handler to the logger\n",
    "# This connects the logger to the handler so that logs get written to the file\n",
    "logger1.addHandler(handler1)\n",
    "\n",
    "def verifyAge(name):\n",
    "    try:\n",
    "        age = int(input('Enter your age :'))\n",
    "    except ValueError as ve:\n",
    "        logging.error('Dear %s, kindly enter correct data set for verification, Exception encountered %s', name, ve)\n",
    "    else:\n",
    "        return age\n",
    "\n",
    "verifyAge(result)"
   ]
  },
  {
   "cell_type": "code",
   "execution_count": null,
   "id": "f68b43d7",
   "metadata": {},
   "outputs": [],
   "source": []
  }
 ],
 "metadata": {
  "kernelspec": {
   "display_name": "Python 3 (ipykernel)",
   "language": "python",
   "name": "python3"
  },
  "language_info": {
   "codemirror_mode": {
    "name": "ipython",
    "version": 3
   },
   "file_extension": ".py",
   "mimetype": "text/x-python",
   "name": "python",
   "nbconvert_exporter": "python",
   "pygments_lexer": "ipython3",
   "version": "3.10.9"
  }
 },
 "nbformat": 4,
 "nbformat_minor": 5
}
