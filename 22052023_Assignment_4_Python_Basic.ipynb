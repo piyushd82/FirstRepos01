{
 "cells": [
  {
   "cell_type": "code",
   "execution_count": 2,
   "id": "c8e6db96",
   "metadata": {},
   "outputs": [
    {
     "name": "stdout",
     "output_type": "stream",
     "text": [
      "<class 'list'> [1, 2, 3, 'a', 'b', True, 12.45, ['ww', 'ee']]\n"
     ]
    }
   ],
   "source": [
    "#1. What exactly is []?\n",
    "# [] symbol represent the list. It is immutable data strcuture and it is hetrogenous in nature i.e. you can manage diffrent data type value in it. e.g.\n",
    "\n",
    "my_list = [1,2,3,'a','b',True, 12.45, ['ww','ee']]\n",
    "print(type(my_list), my_list)\n"
   ]
  },
  {
   "cell_type": "code",
   "execution_count": 7,
   "id": "367e6093",
   "metadata": {},
   "outputs": [
    {
     "name": "stdout",
     "output_type": "stream",
     "text": [
      "List details 1 : [2, 4, 6, 8, 10]\n",
      "List details 2 : [2, 4, 'Hello', 8, 10]\n",
      "List Details 3 : ['a', 'b', 'c', 'd']\n",
      "a\n",
      "['b', 'c']\n",
      "List Details 4 : ['a', 'b', 'c', 3]\n"
     ]
    }
   ],
   "source": [
    "#2. In a list of values stored in a variable called spam, how would you assign the value 'hello' as the third value? \n",
    "##(Assume [2, 4, 6, 8, 10] are in spam.)\n",
    "\n",
    "#Intialize the list\n",
    "spam = [2, 4, 6, 8, 10]\n",
    "print('List details 1 :', spam)\n",
    "#Setting third value to be hello \n",
    "spam[2] = 'Hello'\n",
    "print('List details 2 :', spam)\n",
    "\n",
    "# Initialize the list\n",
    "spam = ['a', 'b', 'c', 'd']\n",
    "print('List Details 3 :', spam)\n",
    "#Retriving list data\n",
    "print(spam[0])\n",
    "#Slicing the list data\n",
    "print(spam[1:3])\n",
    "#Modifying the list content\n",
    "spam[3] = 3\n",
    "print('List Details 4 :', spam)\n"
   ]
  },
  {
   "cell_type": "code",
   "execution_count": 10,
   "id": "82216961",
   "metadata": {},
   "outputs": [
    {
     "name": "stdout",
     "output_type": "stream",
     "text": [
      "33\n"
     ]
    },
    {
     "data": {
      "text/plain": [
       "'d'"
      ]
     },
     "execution_count": 10,
     "metadata": {},
     "output_type": "execute_result"
    }
   ],
   "source": [
    "##Let's pretend the spam includes the list ['a', 'b', 'c', 'd'] for the next three queries.\n",
    "spam = ['a', 'b', 'c', 'd']\n",
    "#3. What is the value of spam[int(int('3' * 2) / 11)]?\n",
    "#Retriving value\n",
    "# int('3' *2) return 33 as integer value\n",
    "# int (33/11) retrun value 3\n",
    "## spam[3] will return value 4th element of list i.e. d\n",
    "spam[int(int('3' * 2) / 11)]"
   ]
  },
  {
   "cell_type": "code",
   "execution_count": 11,
   "id": "a1e88d42",
   "metadata": {},
   "outputs": [
    {
     "data": {
      "text/plain": [
       "'d'"
      ]
     },
     "execution_count": 11,
     "metadata": {},
     "output_type": "execute_result"
    }
   ],
   "source": [
    "#4. What is the value of spam[-1]?\n",
    "# statement will return last element value of list\n",
    "spam[-1]\n"
   ]
  },
  {
   "cell_type": "code",
   "execution_count": 13,
   "id": "24cf8144",
   "metadata": {},
   "outputs": [
    {
     "data": {
      "text/plain": [
       "['a', 'b']"
      ]
     },
     "execution_count": 13,
     "metadata": {},
     "output_type": "execute_result"
    }
   ],
   "source": [
    "#5. What is the value of spam[:2]?\n",
    "# Statement will retrun value element from 0 to 1  from list i.e. a, b\n",
    "spam[:2]\n"
   ]
  },
  {
   "cell_type": "code",
   "execution_count": 16,
   "id": "f7c25bee",
   "metadata": {},
   "outputs": [
    {
     "data": {
      "text/plain": [
       "1"
      ]
     },
     "execution_count": 16,
     "metadata": {},
     "output_type": "execute_result"
    }
   ],
   "source": [
    "#Let's pretend bacon has the list [3.14, 'cat,' 11, 'cat,' True] for the next three questions.\n",
    "bacon = [3.14, 'cat', 11, 'cat', True]\n",
    "#6. What is the value of bacon.index('cat')?\n",
    "# it will return first index of 'Cat' i.e. 1\n",
    "bacon.index('cat')"
   ]
  },
  {
   "cell_type": "code",
   "execution_count": 17,
   "id": "fff52fd2",
   "metadata": {},
   "outputs": [
    {
     "name": "stdout",
     "output_type": "stream",
     "text": [
      "[3.14, 'cat', 11, 'cat', True, 99]\n"
     ]
    }
   ],
   "source": [
    "#7. How does bacon.append(99) change the look of the list value in bacon?\n",
    "#It will add the provided value after last index of list i.e. after True\n",
    "bacon.append(99)\n",
    "print(bacon)"
   ]
  },
  {
   "cell_type": "code",
   "execution_count": 18,
   "id": "0a586f2d",
   "metadata": {},
   "outputs": [
    {
     "name": "stdout",
     "output_type": "stream",
     "text": [
      "[3.14, 11, 'cat', True, 99]\n"
     ]
    }
   ],
   "source": [
    "#8. How does bacon.remove('cat') change the look of the list in bacon?\n",
    "#It will remove the first occurance of 'cat' element and other one will remain in list\n",
    "bacon.remove('cat')\n",
    "print(bacon)"
   ]
  },
  {
   "cell_type": "code",
   "execution_count": 20,
   "id": "6f3dcc7f",
   "metadata": {},
   "outputs": [
    {
     "name": "stdout",
     "output_type": "stream",
     "text": [
      "[1, 2, 3, 4, 5, 6, 7, 8, 9, 10]\n",
      "[1, 2, 3, 4, 5, 1, 2, 3, 4, 5, 1, 2, 3, 4, 5, 1, 2, 3, 4, 5]\n"
     ]
    }
   ],
   "source": [
    "#9. What are the list concatenation and list replication operators?\n",
    "# List concatenation used to combine two list data and create new one i.e.\n",
    "l1 = [1,2,3,4,5]\n",
    "l2 = [6,7,8,9,10]\n",
    "#List Concatenation \n",
    "l3 = l1 + l2\n",
    "print(l3)\n",
    "\n",
    "#List replication : It is creating multiple entries from existing content i.e. repeating same data as per iteration defined in code\n",
    "\n",
    "l4 = l1 * 4\n",
    "print(l4)\n"
   ]
  },
  {
   "cell_type": "code",
   "execution_count": 25,
   "id": "52ff96a8",
   "metadata": {},
   "outputs": [
    {
     "name": "stdout",
     "output_type": "stream",
     "text": [
      "Total element in list :  5\n",
      "New value placed at index  5\n",
      "List data before insert : [1, 2, 3, 4, 5, 11]\n",
      "List data after insert : ['a', 1, 2, 3, 4, 5, 11]\n"
     ]
    }
   ],
   "source": [
    "#10. What is difference between the list methods append() and insert()?\n",
    "#append method will put the data after the last element on the other hand insert will give choice to put data at identified place i.e.\n",
    "print('Total element in list : ', len(l1))\n",
    "l1.append(11)\n",
    "print('New value placed at index ',l1.index(11))\n",
    "#Working with Insert function\n",
    "print('List data before insert :',l1)\n",
    "l1.insert(0, 'a')\n",
    "print('List data after insert :',l1)"
   ]
  },
  {
   "cell_type": "code",
   "execution_count": 30,
   "id": "122f8e6f",
   "metadata": {},
   "outputs": [
    {
     "name": "stdout",
     "output_type": "stream",
     "text": [
      "List data after operation 1  ['a', 1, 3, 5, 11]\n",
      "List data after operation 2  ['a', 1, 3, 11]\n"
     ]
    }
   ],
   "source": [
    "11. What are the two methods for removing items from a list?\n",
    "#There are two method used 1: remove() 2. pop()\n",
    "l1.remove(2) # It will remove first occurance of value specfied \n",
    "print ('List data after operation 1 ', l1)\n",
    "l1.pop(3) # It will remove last occurance of specified value\n",
    "print ('List data after operation 2 ', l1)"
   ]
  },
  {
   "cell_type": "code",
   "execution_count": 32,
   "id": "4f9003c2",
   "metadata": {},
   "outputs": [
    {
     "name": "stdout",
     "output_type": "stream",
     "text": [
      "String Data  p\n",
      "List element  aa\n",
      "Slicing the list  [3.14, True]\n",
      "Slicing the Str  am\n"
     ]
    }
   ],
   "source": [
    "#12. Describe how list values and string values are identical.\n",
    "# They share most operations like slicing, indexing, common method like len(), concatenation of two with '+' operator \n",
    "## String immutable on the other hand list of mutable \n",
    "##List is collection of hetrgenous data on the other hand string holds alphanumeric value\n",
    "\n",
    "sample_str = 'Sample String'\n",
    "sample_list = [1,3.14,True, 'aa']\n",
    "#Idenxing\n",
    "print('String Data ',sample_str[3])\n",
    "print('List element ',sample_list[3])\n",
    "\n",
    "#Concatenation\n",
    "sample_str = sample_str + \"raw data\"\n",
    "sample_list = sample_list + ['rr', 'nn', 'mm']\n",
    "\n",
    "#Slicing\n",
    "print('Slicing the list ',sample_list [1:3])\n",
    "print('Slicing the Str ',sample_str [1:3])\n",
    "\n"
   ]
  },
  {
   "cell_type": "code",
   "execution_count": 37,
   "id": "8db89fbb",
   "metadata": {},
   "outputs": [
    {
     "name": "stdout",
     "output_type": "stream",
     "text": [
      "[10, 200, 300, 500, 900]\n",
      "0\n"
     ]
    }
   ],
   "source": [
    "# 13. What's the difference between tuples and lists?\n",
    "# Tupples are immutable data collection on the other hand list are mutable i.e. over list add, remove and modify operation can be perfromed \n",
    "\n",
    "my_lst = [100,200,300,400,500]\n",
    "my_tup = (100,200,300, 400, 500)\n",
    "\n",
    "my_lst.remove(100)\n",
    "my_lst.pop(2)\n",
    "my_lst.append(900)\n",
    "my_lst.insert(0, 10)\n",
    "print(my_lst)\n",
    "\n",
    "#Only Traversing can be done no other operation supported \n",
    "print(my_tup.index(100))"
   ]
  },
  {
   "cell_type": "code",
   "execution_count": 40,
   "id": "962b33fd",
   "metadata": {},
   "outputs": [
    {
     "name": "stdout",
     "output_type": "stream",
     "text": [
      "<class 'tuple'>\n",
      "<class 'int'>\n"
     ]
    }
   ],
   "source": [
    "#14. How do you type a tuple value that only contains the integer 42?\n",
    "#For single value tupple you need to have comma after value else it will treat data as a integer/string/bool/flaot as per the single value in parenthese\n",
    "single_tup = (42,)\n",
    "s_tup_ex = (42)\n",
    "\n",
    "print(type(single_tup))\n",
    "print(type(s_tup_ex))\n"
   ]
  },
  {
   "cell_type": "code",
   "execution_count": 42,
   "id": "a212544e",
   "metadata": {},
   "outputs": [
    {
     "name": "stdout",
     "output_type": "stream",
     "text": [
      "Object `form` not found.\n",
      "(1, 2, 3, 4, 5, 6)\n",
      "[100, 2.14, 300, 'a']\n"
     ]
    }
   ],
   "source": [
    "#15. How do you get a list value's tuple form? How do you get a tuple value's list form?\n",
    "# It is casting the list to tuple and tuple to list e.g.\n",
    "\n",
    "sample_ls1 = [1,2,3,4,5,6]\n",
    "sample_tu1 = (100, 2.14, 300, 'a')\n",
    "\n",
    "#Casting list to tuple\n",
    "cast_tup = tuple(sample_ls1)\n",
    "print(cast_tup)\n",
    "\n",
    "#Casting tuple to list\n",
    "cast_lst = list(sample_tu1)\n",
    "print(cast_lst)\n"
   ]
  },
  {
   "cell_type": "code",
   "execution_count": 44,
   "id": "f49d6d05",
   "metadata": {},
   "outputs": [
    {
     "name": "stdout",
     "output_type": "stream",
     "text": [
      "[1, 2, 3, 4, 5, 7]\n"
     ]
    }
   ],
   "source": [
    "#16. Variables that \"contain\" list values are not necessarily lists themselves. Instead, what do they contain?\n",
    "# List holds refernce of memomry where object are getting stored \n",
    "b = [1,2,3,4,5]\n",
    "#Defining another variable and assigning list refrence to it \n",
    "a = b\n",
    "# modifying the b list element\n",
    "b.append(7)\n",
    "# as it is already assigned to new variable it will pass all changes to it. Because it providing menmory reference for a object. So update will reflect on the 'a' too\n",
    "print(a)"
   ]
  },
  {
   "cell_type": "code",
   "execution_count": 45,
   "id": "d16518e4",
   "metadata": {},
   "outputs": [
    {
     "name": "stdout",
     "output_type": "stream",
     "text": [
      "Parent List Before update:  ['a', ['b', 'c'], ['e', 'f']]\n",
      " Shallow Copy Before Update:  ['a', ['b', 'c'], ['e', 'f']]\n",
      "Deep Copy Before Update: ['a', ['b', 'c'], ['e', 'f']]\n",
      "Parent List After update:  ['a', ['b', 'c', 'd'], ['e', 'f']]\n",
      " Shallow Copy After Update:  ['a', ['b', 'c', 'd'], ['e', 'f']]\n",
      "Deep Copy After Update: ['a', ['b', 'c'], ['e', 'f']]\n"
     ]
    }
   ],
   "source": [
    "#17. How do you distinguish between copy.copy() and copy.deepcopy()?\n",
    "#copy.copy(): It covers shallow copy and still have reference from parent data collection i.e. any changes made on the parent data collection reflected on copied data \n",
    "import copy\n",
    "parent_lst = ['a', ['b','c'],['e','f']]\n",
    "\n",
    "cp_cp = copy.copy(parent_lst)\n",
    "dp_cp = copy.deepcopy(parent_lst)\n",
    "print('Parent List Before update: ',parent_lst)\n",
    "print(' Shallow Copy Before Update: ', cp_cp)\n",
    "print(\"Deep Copy Before Update:\", dp_cp)\n",
    "#Modifying the parent list\n",
    "parent_lst[1].append('d')\n",
    "\n",
    "print('Parent List After update: ',parent_lst)\n",
    "print(' Shallow Copy After Update: ', cp_cp)\n",
    "print(\"Deep Copy After Update:\", dp_cp)\n",
    "\n",
    "# Same evident from ouptut deepcopy will create copy of all refernce and not refering same memory allocation unlike shallow copy"
   ]
  },
  {
   "cell_type": "code",
   "execution_count": null,
   "id": "3697f041",
   "metadata": {},
   "outputs": [],
   "source": []
  }
 ],
 "metadata": {
  "kernelspec": {
   "display_name": "Python 3 (ipykernel)",
   "language": "python",
   "name": "python3"
  },
  "language_info": {
   "codemirror_mode": {
    "name": "ipython",
    "version": 3
   },
   "file_extension": ".py",
   "mimetype": "text/x-python",
   "name": "python",
   "nbconvert_exporter": "python",
   "pygments_lexer": "ipython3",
   "version": "3.10.9"
  }
 },
 "nbformat": 4,
 "nbformat_minor": 5
}
