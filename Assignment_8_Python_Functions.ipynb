{
 "cells": [
  {
   "cell_type": "code",
   "execution_count": 2,
   "id": "9f394778",
   "metadata": {},
   "outputs": [
    {
     "name": "stdout",
     "output_type": "stream",
     "text": [
      "Inbuilt Function :  15\n"
     ]
    }
   ],
   "source": [
    "# 1. In Python, what is the difference between a built-in function and a user-defined function? Provide an example of each.\n",
    "\n",
    "#User defined function\n",
    "def add(a,b):\n",
    "    result = a+b\n",
    "    return result\n",
    "\n",
    "#In-built functions\n",
    "print('Inbuilt Function : ',add(10,5))\n"
   ]
  },
  {
   "cell_type": "code",
   "execution_count": 3,
   "id": "1635f13c",
   "metadata": {},
   "outputs": [
    {
     "name": "stdout",
     "output_type": "stream",
     "text": [
      "Positional Arguments Parameter ---\n",
      "Value of First Parmeter :  1\n",
      "Value of Second Parmeter :  2\n",
      "Value of Third Parmeter :  3\n",
      "Result is :  6\n",
      "-----------------------\n",
      "Keyword Arguments parameter ---\n",
      "Value of First Parmeter :  10\n",
      "Value of Second Parmeter :  5\n",
      "Value of Third Parmeter :  3\n",
      "Result is :  150\n",
      "-----------------------\n"
     ]
    },
    {
     "data": {
      "text/plain": [
       "150"
      ]
     },
     "execution_count": 3,
     "metadata": {},
     "output_type": "execute_result"
    }
   ],
   "source": [
    "#2. How can you pass arguments to a function in Python? Explain the difference between positional arguments and keyword  arguments.\n",
    "\n",
    "def multiplication (a, b, c):\n",
    "    print('Value of First Parmeter : ', a)\n",
    "    print('Value of Second Parmeter : ', b)\n",
    "    print('Value of Third Parmeter : ', c)\n",
    "    \n",
    "    result = a*b*c\n",
    "    print('Result is : ', result)\n",
    "    print('-----------------------')\n",
    "    return result\n",
    "print('Positional Arguments Parameter ---')\n",
    "# Here values are passed to function as per sequence only\n",
    "multiplication(1,2,3)\n",
    "print('Keyword Arguments parameter ---')\n",
    "#Here default value passed to parameter, No sequence required if value assigned parameter\n",
    "multiplication(c=3, b=5, a=10)\n"
   ]
  },
  {
   "cell_type": "code",
   "execution_count": 5,
   "id": "3c8785c6",
   "metadata": {},
   "outputs": [
    {
     "name": "stdout",
     "output_type": "stream",
     "text": [
      "First retrun value : Piyush \n",
      "Second retrun value : Doraya\n",
      "Third retrun value : Piyush Doraya\n"
     ]
    }
   ],
   "source": [
    "#3. What is the purpose of the return statement in a function? Can a function have multiple return statements? Explain with an example.\n",
    "\n",
    "# Return statment used to provide output value from the function which can be assigned to varaible e.g. Current program taking input and returning main string along with parameters\n",
    "\n",
    "def joinString(a, b):\n",
    "    mainStr = a + b\n",
    "    \n",
    "    return a,b,mainStr\n",
    "\n",
    "a,b,c = joinString('Piyush ', 'Doraya')\n",
    "\n",
    "print('First retrun value :', a)\n",
    "print('Second retrun value :', b)\n",
    "print('Third retrun value :', c)"
   ]
  },
  {
   "cell_type": "code",
   "execution_count": 9,
   "id": "996785b6",
   "metadata": {},
   "outputs": [
    {
     "name": "stdout",
     "output_type": "stream",
     "text": [
      "0.8\n"
     ]
    }
   ],
   "source": [
    "#4. What are lambda functions in Python? How are they different from regular functions? Provide an example where a lambda function can be useful.\n",
    "#It is small/onliner function. It will be used to replace commonly used code with function. So change at one place applicable to all instance\n",
    "\n",
    "a = lambda x,y : x/y\n",
    "\n",
    "result = a(4,5)\n",
    "\n",
    "print (result)"
   ]
  },
  {
   "cell_type": "code",
   "execution_count": 11,
   "id": "1233c180",
   "metadata": {},
   "outputs": [
    {
     "name": "stdout",
     "output_type": "stream",
     "text": [
      "Local Scope varialbe :: Inside function 6\n",
      "Global Scope varialbe :: Inside Function  5\n"
     ]
    },
    {
     "ename": "NameError",
     "evalue": "name 'localVar' is not defined",
     "output_type": "error",
     "traceback": [
      "\u001b[1;31m---------------------------------------------------------------------------\u001b[0m",
      "\u001b[1;31mNameError\u001b[0m                                 Traceback (most recent call last)",
      "Cell \u001b[1;32mIn[11], line 15\u001b[0m\n\u001b[0;32m     11\u001b[0m     \u001b[38;5;28mprint\u001b[39m(\u001b[38;5;124m'\u001b[39m\u001b[38;5;124mGlobal Scope varialbe :: Inside Function \u001b[39m\u001b[38;5;124m'\u001b[39m, globalVar)\n\u001b[0;32m     14\u001b[0m localScope()\n\u001b[1;32m---> 15\u001b[0m \u001b[38;5;28mprint\u001b[39m(\u001b[38;5;124m'\u001b[39m\u001b[38;5;124mLocal Scope varialbe :: Outside function\u001b[39m\u001b[38;5;124m'\u001b[39m, \u001b[43mlocalVar\u001b[49m)\n\u001b[0;32m     16\u001b[0m \u001b[38;5;28mprint\u001b[39m(\u001b[38;5;124m'\u001b[39m\u001b[38;5;124mGlobal Scope varialbe :: Outside Function \u001b[39m\u001b[38;5;124m'\u001b[39m, globalVar)\n",
      "\u001b[1;31mNameError\u001b[0m: name 'localVar' is not defined"
     ]
    }
   ],
   "source": [
    "#5. How does the concept of \"scope\" apply to functions in Python? Explain the difference between local scope and global scope.\n",
    "#Global Scope : it has visibility through out program container. e.g. Variable decleared outside a function has visibility to all function\n",
    "#Local scope : It has visibility till boundry of function or bonded limit only. e.g. Variable decleared inside the function has visibility till function it self\n",
    "\n",
    "\n",
    "globalVar = 5\n",
    "\n",
    "def localScope():\n",
    "    localVar = 6\n",
    "    print('Local Scope varialbe :: Inside function', localVar)\n",
    "    print('Global Scope varialbe :: Inside Function ', globalVar)\n",
    "    \n",
    "\n",
    "localScope()\n",
    "print('Local Scope varialbe :: Outside function', localVar)\n",
    "print('Global Scope varialbe :: Outside Function ', globalVar)\n",
    "    \n",
    "\n"
   ]
  },
  {
   "cell_type": "code",
   "execution_count": 12,
   "id": "76bde4b4",
   "metadata": {},
   "outputs": [
    {
     "name": "stdout",
     "output_type": "stream",
     "text": [
      "First retrun value : Piyush \n",
      "Second retrun value : Doraya\n",
      "Third retrun value : Piyush Doraya\n"
     ]
    }
   ],
   "source": [
    "#6. How can you use the \"return\" statement in a Python function to return multiple values?\n",
    "\n",
    "# Return statment used to provide output value from the function which can be assigned to varaible e.g. Current program taking input and returning main string along with parameters\n",
    "\n",
    "def joinString(a, b):\n",
    "    mainStr = a + b\n",
    "    \n",
    "    return a,b,mainStr\n",
    "\n",
    "a,b,c = joinString('Piyush ', 'Doraya')\n",
    "\n",
    "print('First retrun value :', a)\n",
    "print('Second retrun value :', b)\n",
    "print('Third retrun value :', c)\n"
   ]
  },
  {
   "cell_type": "code",
   "execution_count": 13,
   "id": "da3a8b65",
   "metadata": {},
   "outputs": [
    {
     "name": "stdout",
     "output_type": "stream",
     "text": [
      "Pass by reference Parameter ---\n",
      "Value of First Parmeter :  1\n",
      "Value of Second Parmeter :  2\n",
      "Value of Third Parmeter :  3\n",
      "Result is :  6\n",
      "-----------------------\n",
      "Pass by value parameter ---\n",
      "Value of First Parmeter :  10\n",
      "Value of Second Parmeter :  5\n",
      "Value of Third Parmeter :  3\n",
      "Result is :  150\n",
      "-----------------------\n"
     ]
    },
    {
     "data": {
      "text/plain": [
       "150"
      ]
     },
     "execution_count": 13,
     "metadata": {},
     "output_type": "execute_result"
    }
   ],
   "source": [
    "# 7. What is the difference between the \"pass by value\" and \"pass by reference\" concepts when it comes to function arguments in Python?\n",
    "\n",
    "def multiplication (a, b, c):\n",
    "    print('Value of First Parmeter : ', a)\n",
    "    print('Value of Second Parmeter : ', b)\n",
    "    print('Value of Third Parmeter : ', c)\n",
    "    \n",
    "    result = a*b*c\n",
    "    print('Result is : ', result)\n",
    "    print('-----------------------')\n",
    "    return result\n",
    "print('Pass by reference Parameter ---')\n",
    "# Here values are passed to function as per sequence only\n",
    "multiplication(1,2,3)\n",
    "print('Pass by value parameter ---')\n",
    "#Here default value passed to parameter, No sequence required if value assigned parameter\n",
    "multiplication(c=3, b=5, a=10)"
   ]
  },
  {
   "cell_type": "code",
   "execution_count": 15,
   "id": "cdf97845",
   "metadata": {},
   "outputs": [
    {
     "name": "stdout",
     "output_type": "stream",
     "text": [
      "Logirithmic value of  4  is  1.3862943611198906\n",
      "Exponential value of  4  is  54.598150033144236\n",
      "Power of 2 value  4  is  16\n",
      "Square  root of  4 is 2.0\n"
     ]
    }
   ],
   "source": [
    "#8. Create a function that can intake integer or decimal value and do following operations:\n",
    "#a. Logarithmic function (log x)\n",
    "#b. Exponential function (exp(x))\n",
    "#c. Power function with base 2 (2x)\n",
    "#d. Square root\n",
    "import math\n",
    "\n",
    "def perfromMathOpe(x):\n",
    "    typeDtls = type(x)\n",
    "    if typeDtls == int or typeDtls == float:\n",
    "        logVal = math.log(x)\n",
    "        expVal = math.exp(x)\n",
    "        powerVal = 2 ** x\n",
    "        sqrVal = math.sqrt(x)\n",
    "        return logVal,expVal,powerVal,sqrVal\n",
    "    else:\n",
    "        print('Enter correct value')\n",
    "\n",
    "q = 4\n",
    "a,b,c,d = perfromMathOpe(q)\n",
    "\n",
    "print('Logirithmic value of ', q, ' is ', a )\n",
    "print('Exponential value of ', q, ' is ', b )\n",
    "print('Power of 2 value ', q, ' is ', c)\n",
    "print('Square  root of ', q, 'is' , d)"
   ]
  },
  {
   "cell_type": "code",
   "execution_count": 19,
   "id": "d2771866",
   "metadata": {},
   "outputs": [
    {
     "name": "stdout",
     "output_type": "stream",
     "text": [
      "Index  0 Piyush\n",
      "Index  1 Doraya\n"
     ]
    }
   ],
   "source": [
    "#9. Create a function that takes a full name as an argument and returns first name and last name.\n",
    "\n",
    "def spiltName(nm):\n",
    "    if type(nm) == str:\n",
    "        ls = nm.split()\n",
    "        for i in range(len(ls)):\n",
    "            print('Index ', i , ls[i])\n",
    "\n",
    "spiltName('Piyush Doraya')\n",
    "\n",
    "        "
   ]
  },
  {
   "cell_type": "code",
   "execution_count": null,
   "id": "2d7f9004",
   "metadata": {},
   "outputs": [],
   "source": []
  }
 ],
 "metadata": {
  "kernelspec": {
   "display_name": "Python 3 (ipykernel)",
   "language": "python",
   "name": "python3"
  },
  "language_info": {
   "codemirror_mode": {
    "name": "ipython",
    "version": 3
   },
   "file_extension": ".py",
   "mimetype": "text/x-python",
   "name": "python",
   "nbconvert_exporter": "python",
   "pygments_lexer": "ipython3",
   "version": "3.10.9"
  }
 },
 "nbformat": 4,
 "nbformat_minor": 5
}
