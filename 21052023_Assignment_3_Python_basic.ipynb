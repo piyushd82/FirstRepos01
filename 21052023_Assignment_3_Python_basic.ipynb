{
 "cells": [
  {
   "cell_type": "code",
   "execution_count": null,
   "id": "7084bf52",
   "metadata": {},
   "outputs": [],
   "source": [
    "#1. Why are functions advantageous to have in your programs?\n",
    "## Functions comprise common code which can be executed multiple times in shorts it ensures code reusability with generic parameters \n",
    "## on the other hand program normal program has visibility till scope of current program only it can't be extended further\n"
   ]
  },
  {
   "cell_type": "code",
   "execution_count": 2,
   "id": "9db806ab",
   "metadata": {},
   "outputs": [],
   "source": [
    "##2. When does the code in a function run: when it's specified or when it's called?\n",
    "\n",
    "# Commonly used code can be clubbed in to a function which can be called furhter with paramters to perform any operation e.g.\n",
    "\n",
    "def addNo(a , b):\n",
    "    return a + b\n",
    "   "
   ]
  },
  {
   "cell_type": "code",
   "execution_count": 3,
   "id": "daf9376e",
   "metadata": {},
   "outputs": [
    {
     "data": {
      "text/plain": [
       "12"
      ]
     },
     "execution_count": 3,
     "metadata": {},
     "output_type": "execute_result"
    }
   ],
   "source": [
    "addNo(10,2)"
   ]
  },
  {
   "cell_type": "code",
   "execution_count": 4,
   "id": "ac89b58b",
   "metadata": {},
   "outputs": [],
   "source": [
    "#3. What statement creates a function?\n",
    "\n",
    "#Statement for a function\n",
    "\n",
    "def concatStr(a, b):\n",
    "    return a+b\n"
   ]
  },
  {
   "cell_type": "code",
   "execution_count": 5,
   "id": "3728c647",
   "metadata": {},
   "outputs": [
    {
     "data": {
      "text/plain": [
       "'Piyush Doraya'"
      ]
     },
     "execution_count": 5,
     "metadata": {},
     "output_type": "execute_result"
    }
   ],
   "source": [
    "concatStr('Piyush ', 'Doraya')"
   ]
  },
  {
   "cell_type": "code",
   "execution_count": 7,
   "id": "f0bafee4",
   "metadata": {},
   "outputs": [
    {
     "data": {
      "text/plain": [
       "'Hello World'"
      ]
     },
     "execution_count": 7,
     "metadata": {},
     "output_type": "execute_result"
    }
   ],
   "source": [
    "#4. What is the difference between a function and a function call?\n",
    "#There are two part of it 4.1. Initialize the function which content the logic/definition to get excute\n",
    "def printVal():\n",
    "    return 'Hello World'\n",
    "\n",
    "#4.2. defined function can be called by functionNm(Paremeter if any) in order to get output from the fucntion\n",
    "\n",
    "printVal()\n"
   ]
  },
  {
   "cell_type": "code",
   "execution_count": 12,
   "id": "d4d60f14",
   "metadata": {},
   "outputs": [
    {
     "name": "stdout",
     "output_type": "stream",
     "text": [
      "5\n",
      "10\n"
     ]
    },
    {
     "ename": "NameError",
     "evalue": "name 'b' is not defined",
     "output_type": "error",
     "traceback": [
      "\u001b[1;31m---------------------------------------------------------------------------\u001b[0m",
      "\u001b[1;31mNameError\u001b[0m                                 Traceback (most recent call last)",
      "Cell \u001b[1;32mIn[12], line 12\u001b[0m\n\u001b[0;32m     10\u001b[0m \u001b[38;5;28mprint\u001b[39m(a)\n\u001b[0;32m     11\u001b[0m \u001b[38;5;28mprint\u001b[39m(localScopeVar())\n\u001b[1;32m---> 12\u001b[0m \u001b[38;5;28mprint\u001b[39m(\u001b[43mb\u001b[49m)\n",
      "\u001b[1;31mNameError\u001b[0m: name 'b' is not defined"
     ]
    }
   ],
   "source": [
    "#5. How many global scopes are there in a Python program? How many local scopes?\n",
    "#Variable, function and statement defined outside function can be trated as global scopes\n",
    "\n",
    "a = 5 # Global scopes\n",
    "\n",
    "def localScopeVar():\n",
    "    b = 10 # Scope limit to functions only : local scope\n",
    "    return b\n",
    "\n",
    "print(a)\n",
    "print(localScopeVar())\n",
    "print(b) \n"
   ]
  },
  {
   "cell_type": "code",
   "execution_count": null,
   "id": "66706c27",
   "metadata": {},
   "outputs": [],
   "source": [
    "#6. What happens to variables in a local scope when the function call returns?\n",
    "# When a function call returns, the local scope associated with that function is destroyed, and any variables defined within that local scope cease to exist.\n",
    "\n",
    "\n",
    "a = 5 # Global scopes : Value remain in the memory till program getting refrenced \n",
    "\n",
    "def localScopeVar():\n",
    "    b = 10 # Scope limit to functions only : local scope\n",
    "    return b\n",
    "\n",
    "print(a)\n",
    "print(localScopeVar()) # Value get retained by the time fucntion get called and released afterwards\n",
    "print(b) \n"
   ]
  },
  {
   "cell_type": "code",
   "execution_count": 14,
   "id": "f89e8901",
   "metadata": {},
   "outputs": [],
   "source": [
    "#7. What is the concept of a return value? Is it possible to have a return value in an expression?\n",
    "# Return holds value which function provide back. Yes! experesion can be used with return keyword it will evaluate and provide output to end user\n",
    "\n",
    "def concatStr(a, b):\n",
    "    return a+b # Reutrn concat string and it holds the expression at return keyword"
   ]
  },
  {
   "cell_type": "code",
   "execution_count": 15,
   "id": "91b6b238",
   "metadata": {},
   "outputs": [
    {
     "data": {
      "text/plain": [
       "'FSDS'"
      ]
     },
     "execution_count": 15,
     "metadata": {},
     "output_type": "execute_result"
    }
   ],
   "source": [
    "concatStr('FS', 'DS')"
   ]
  },
  {
   "cell_type": "code",
   "execution_count": 17,
   "id": "9831cd1d",
   "metadata": {},
   "outputs": [
    {
     "name": "stdout",
     "output_type": "stream",
     "text": [
      "No return statement from the function\n"
     ]
    }
   ],
   "source": [
    "#8. If a function does not have a return statement, what is the return value of a call to that function?\n",
    "# In case function doesn't have return statement it will return a 'None' however in such scenario it will execute the logic intended for a function e.g\n",
    "\n",
    "def printVal():\n",
    "    print(\"No return statement from the function\")\n",
    "\n",
    "printVal()\n"
   ]
  },
  {
   "cell_type": "code",
   "execution_count": 19,
   "id": "e251600b",
   "metadata": {},
   "outputs": [
    {
     "data": {
      "text/plain": [
       "'Global Value'"
      ]
     },
     "execution_count": 19,
     "metadata": {},
     "output_type": "execute_result"
    }
   ],
   "source": [
    "#9. How do you make a function variable refer to the global variable?\n",
    "# By assigning the value to local variable of function e.g\n",
    "\n",
    "global_Var = \"Global Value\"\n",
    "def refGlobalVar():\n",
    "    local_var = global_Var\n",
    "    return local_var\n",
    "\n",
    "refGlobalVar()"
   ]
  },
  {
   "cell_type": "code",
   "execution_count": 20,
   "id": "22a87fd1",
   "metadata": {},
   "outputs": [
    {
     "name": "stdout",
     "output_type": "stream",
     "text": [
      "<class 'NoneType'>\n"
     ]
    }
   ],
   "source": [
    "#10. What is the data type of None?\n",
    "# data type for 'None' is Nonetype\n",
    "\n",
    "def showcaseNone():\n",
    "    print(type(None))\n",
    "\n",
    "showcaseNone()\n"
   ]
  },
  {
   "cell_type": "code",
   "execution_count": null,
   "id": "8e49da5d",
   "metadata": {},
   "outputs": [],
   "source": [
    "#11. What does the sentence import areallyourpetsnamederic do?\n",
    "# Above statement import all global scoped variable, function/feature and class to current code. Same can be extended further."
   ]
  },
  {
   "cell_type": "code",
   "execution_count": null,
   "id": "759881aa",
   "metadata": {},
   "outputs": [],
   "source": [
    "#12. If you had a bacon() feature in a spam module, what would you call it after importing spam?\n",
    "from spam import bacon()"
   ]
  },
  {
   "cell_type": "code",
   "execution_count": 23,
   "id": "1f6af63e",
   "metadata": {},
   "outputs": [
    {
     "name": "stdout",
     "output_type": "stream",
     "text": [
      "Error division by zero\n",
      "Provide valid input\n"
     ]
    }
   ],
   "source": [
    "#13. What can you do to save a programme from crashing if it encounters an error?\n",
    "# By putting error prone code inside try except block\n",
    "def divisionbyzero(a, b):\n",
    "    \n",
    "    try:\n",
    "        c = a/b\n",
    "    except Exception as e:\n",
    "        print('Error', e)\n",
    "        print ('Provide valid input')\n",
    "\n",
    "divisionbyzero(5,0)\n",
    "\n"
   ]
  },
  {
   "cell_type": "code",
   "execution_count": 27,
   "id": "69f00ae0",
   "metadata": {},
   "outputs": [],
   "source": [
    "#14. What is the purpose of the try clause? What is the purpose of the except clause?\n",
    "# As it is evident from code above, we can put our code inside the try block which might throw any runtime exception \n",
    "#On the other hand except block will exeuted in case of any runtime error. Same can be posted back to end user,\n",
    "\n",
    "def divisionbyzero(a, b):\n",
    "    \n",
    "    try:\n",
    "        return a/b\n",
    "    except ZeroDivisionError:\n",
    "        print(\"Error: Division by zero is not allowed\")\n",
    "    except TypeError:\n",
    "        print(\"Error: Invalid operand types\")\n",
    "    except Exception as e:\n",
    "        print('Error', e)\n",
    "        "
   ]
  },
  {
   "cell_type": "code",
   "execution_count": 28,
   "id": "ee109438",
   "metadata": {},
   "outputs": [
    {
     "name": "stdout",
     "output_type": "stream",
     "text": [
      "Error: Division by zero is not allowed\n",
      "Error: Invalid operand types\n"
     ]
    },
    {
     "data": {
      "text/plain": [
       "2.5"
      ]
     },
     "execution_count": 28,
     "metadata": {},
     "output_type": "execute_result"
    }
   ],
   "source": [
    "divisionbyzero(5,0)\n",
    "divisionbyzero(5, '0')\n",
    "divisionbyzero(5,2)"
   ]
  },
  {
   "cell_type": "code",
   "execution_count": null,
   "id": "2fc63b06",
   "metadata": {},
   "outputs": [],
   "source": []
  }
 ],
 "metadata": {
  "kernelspec": {
   "display_name": "Python 3 (ipykernel)",
   "language": "python",
   "name": "python3"
  },
  "language_info": {
   "codemirror_mode": {
    "name": "ipython",
    "version": 3
   },
   "file_extension": ".py",
   "mimetype": "text/x-python",
   "name": "python",
   "nbconvert_exporter": "python",
   "pygments_lexer": "ipython3",
   "version": "3.10.9"
  }
 },
 "nbformat": 4,
 "nbformat_minor": 5
}
