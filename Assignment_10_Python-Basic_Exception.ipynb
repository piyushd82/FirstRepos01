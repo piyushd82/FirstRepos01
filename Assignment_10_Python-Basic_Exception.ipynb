{
 "cells": [
  {
   "cell_type": "code",
   "execution_count": 7,
   "id": "3775aaec",
   "metadata": {},
   "outputs": [
    {
     "name": "stdout",
     "output_type": "stream",
     "text": [
      "Exception caught :  division by zero\n"
     ]
    }
   ],
   "source": [
    "#1. What is the role of try and exception block?\n",
    "#Ans#It is used to catch a runtime error with in the code. e.g. Issue with value assigment which can be catched during program execution not at a time of compilation.\n",
    "\n",
    "try:\n",
    "    a = 10/0 # Although code is programitically correct but it will fail at runtime. So avoid that break it can be caught and presented back at command prompt/compiler \n",
    "except Exception as e:\n",
    "    print('Exception caught : ', e)"
   ]
  },
  {
   "cell_type": "code",
   "execution_count": 6,
   "id": "051fc4e2",
   "metadata": {},
   "outputs": [
    {
     "name": "stdout",
     "output_type": "stream",
     "text": [
      "Exception caught  name 'b' is not defined\n"
     ]
    }
   ],
   "source": [
    "#2. What is the syntax for a basic try-except block?\n",
    "\n",
    "try:\n",
    "    a = 10\n",
    "    print(b)\n",
    "except Exception as e:\n",
    "    print('Exception caught ',e)\n"
   ]
  },
  {
   "cell_type": "code",
   "execution_count": 8,
   "id": "bda9edf5",
   "metadata": {},
   "outputs": [
    {
     "name": "stdout",
     "output_type": "stream",
     "text": [
      "First No :10\n",
      "Second No :0\n"
     ]
    },
    {
     "ename": "ZeroDivisionError",
     "evalue": "division by zero",
     "output_type": "error",
     "traceback": [
      "\u001b[1;31m---------------------------------------------------------------------------\u001b[0m",
      "\u001b[1;31mZeroDivisionError\u001b[0m                         Traceback (most recent call last)",
      "Cell \u001b[1;32mIn[8], line 6\u001b[0m\n\u001b[0;32m      4\u001b[0m     n \u001b[38;5;241m=\u001b[39m \u001b[38;5;28mint\u001b[39m(\u001b[38;5;28minput\u001b[39m(\u001b[38;5;124m'\u001b[39m\u001b[38;5;124mFirst No :\u001b[39m\u001b[38;5;124m'\u001b[39m))\n\u001b[0;32m      5\u001b[0m     d \u001b[38;5;241m=\u001b[39m \u001b[38;5;28mint\u001b[39m(\u001b[38;5;28minput\u001b[39m(\u001b[38;5;124m'\u001b[39m\u001b[38;5;124mSecond No :\u001b[39m\u001b[38;5;124m'\u001b[39m))\n\u001b[1;32m----> 6\u001b[0m     result \u001b[38;5;241m=\u001b[39m \u001b[43mn\u001b[49m\u001b[38;5;241;43m/\u001b[39;49m\u001b[43md\u001b[49m\n\u001b[0;32m      7\u001b[0m     \u001b[38;5;28mprint\u001b[39m(\u001b[38;5;124m'\u001b[39m\u001b[38;5;124mResult\u001b[39m\u001b[38;5;124m'\u001b[39m, result)\n\u001b[0;32m      9\u001b[0m \u001b[38;5;28;01mexcept\u001b[39;00m \u001b[38;5;167;01mValueError\u001b[39;00m:\n",
      "\u001b[1;31mZeroDivisionError\u001b[0m: division by zero"
     ]
    }
   ],
   "source": [
    "#3. What happens if an exception occurs inside a try block and there is no matching except block?\n",
    "\n",
    "try: \n",
    "    n = int(input('First No :'))\n",
    "    d = int(input('Second No :'))\n",
    "    result = n/d\n",
    "    print('Result', result)\n",
    "\n",
    "except ValueError:\n",
    "    print('Enter only Integer ')\n",
    "    \n",
    "#It will and check for exception block, In case it didn't find appropriate exception instance, It will terminate the program by throwing name of excpetion. Same is being evident from the example above\n"
   ]
  },
  {
   "cell_type": "code",
   "execution_count": 9,
   "id": "0f2c574f",
   "metadata": {},
   "outputs": [
    {
     "name": "stdout",
     "output_type": "stream",
     "text": [
      "data type mismatch\n"
     ]
    }
   ],
   "source": [
    "#4. What is the difference between using a bare except block and specifying a specific exception type?\n",
    "\n",
    "try: \n",
    "    x = '20'\n",
    "    y = 10\n",
    "    z = x + y\n",
    "except :\n",
    "    print('data type mismatch')\n",
    "    \n",
    "#It will treat as parent excpetion class for that and print the same block which written under except block"
   ]
  },
  {
   "cell_type": "code",
   "execution_count": 15,
   "id": "fafad55a",
   "metadata": {},
   "outputs": [
    {
     "name": "stdout",
     "output_type": "stream",
     "text": [
      "First No :10.1\n",
      "invalid literal for int() with base 10: '10.1'\n"
     ]
    }
   ],
   "source": [
    "#5. Can you have nested try-except blocks in Python? If yes, then give an example.\n",
    "# Yes we can have nested try-except block in our code. It will help in catching specific exception\n",
    "try: \n",
    "    n = int(input('First No :'))\n",
    "    d = int(input('Second No :'))\n",
    "    try: \n",
    "        result = n/d\n",
    "        print('Result', result)\n",
    "    except ZeroDivisionError as z:\n",
    "        print(z)\n",
    "except ValueError as v:\n",
    "    print(v)\n"
   ]
  },
  {
   "cell_type": "code",
   "execution_count": 13,
   "id": "56923686",
   "metadata": {},
   "outputs": [
    {
     "name": "stdout",
     "output_type": "stream",
     "text": [
      "First No :10.1\n",
      "invalid literal for int() with base 10: '10.1'\n"
     ]
    }
   ],
   "source": [
    "#6. Can we use multiple exception blocks, if yes then give an example.\n",
    "#Above example can be written in different way\n",
    "try: \n",
    "    n = int(input('First No :'))\n",
    "    d = int(input('Second No :'))\n",
    "    result = n/d\n",
    "    print('Result', result)\n",
    "except ZeroDivisionError as z:\n",
    "    print(z)\n",
    "except ValueError as v:\n",
    "    print(v)"
   ]
  },
  {
   "cell_type": "code",
   "execution_count": 1,
   "id": "e8415527",
   "metadata": {},
   "outputs": [
    {
     "name": "stdout",
     "output_type": "stream",
     "text": [
      "Enter an integer: 10\n",
      "You entered: 10\n",
      "Overflow error :  math range error\n",
      "Out of Idnex : list index out of range\n",
      "Insufficient Memory :: \n",
      "Overflow error :  math range error\n",
      "Identation error\n",
      "Enter the value : 10\n"
     ]
    }
   ],
   "source": [
    "#7. Write the reason due to which following errors are raised:\n",
    "#a. EOFError : It is raised when the input() function or a similar function encounters an end-of-file condition (EOF) while trying to read input from the user or a file.\n",
    "try:\n",
    "    # Read an integer from user input\n",
    "    num = int(input(\"Enter an integer: \"))\n",
    "    print(\"You entered:\", num)\n",
    "except EOFError:\n",
    "    print(\"An EOFError occurred. Input stream is closed.\")\n",
    "\n",
    "#b. FloatingPointError : it is raised when there is an exceptional condition related to floating-point arithmetic operations\n",
    "import math\n",
    "try :\n",
    "    print(math.exp(1000))\n",
    "except FloatingPointError as e:\n",
    "    print('Floating point error : ',e)\n",
    "except OverflowError as ofe:\n",
    "    print('Overflow error : ', ofe)\n",
    "\n",
    "#c. IndexError: It is raised when there is call in data strcuture from index which is not defined. So index out of range can be caught and raised\n",
    "try :\n",
    "    ls1 = [1,2,3,4,5,6,7,8,9,0]\n",
    "    print(ls1[11])\n",
    "except IndexError as iee:\n",
    "    print('Out of Idnex :',iee)\n",
    "\n",
    "#d. MemoryError: It is raised when individual trying to print/access data which is beyond RAM of machine i.e. trying to access number which will occupying max memory allocated in system\n",
    "try: \n",
    "    big_list = [1] * (10 **12)\n",
    "except MemoryError as me:\n",
    "    print('Insufficient Memory ::', me)\n",
    "    \n",
    "#e. OverflowError: It is raised when the result of an arithmetic operation exceeds the maximum representable value for a numeric type. It occurs when performing operations that lead to a value that is too large to be stored within the given data type.\n",
    "import math\n",
    "try :\n",
    "    print(math.exp(1000))\n",
    "except FloatingPointError as e:\n",
    "    print('Floating point error : ',e)\n",
    "except OverflowError as ofe:\n",
    "    print('Overflow error : ', ofe)\n",
    "\n",
    "#f. TabError : It typically occurs when you mix tabs and spaces inconsistently, leading to indentation errors. Python uses indentation to define the structure and hierarchy of code blocks, so any inconsistencies in indentation can cause a TabError to be raised.\n",
    "try :\n",
    "    if 1 < 2:\n",
    "        print('Identation error')\n",
    "except IndentationError as iee:\n",
    "    print('Tab Error : ', iee)\n",
    "\n",
    "#g. ValueError: It is raised when a function receives an argument of the correct type but an inappropriate value.\n",
    "\n",
    "try :\n",
    "    inp = int(input('Enter the value : ')) # Try to enter string value in block\n",
    "except ValueError as ve:\n",
    "    print('Value Error : ', ve)\n"
   ]
  },
  {
   "cell_type": "code",
   "execution_count": 7,
   "id": "70c9ce48",
   "metadata": {},
   "outputs": [
    {
     "name": "stdout",
     "output_type": "stream",
     "text": [
      "Input First No :10\n",
      "Input First No :0\n",
      "ENcoutered Issue  division by zero\n",
      "Enter the value : qw\n",
      "Value Error Trying to convert string to integer :  invalid literal for int() with base 10: 'qw'\n",
      "Accessing object which are Out of Idnex : list index out of range\n",
      "First No :10\n",
      "Second No :as\n",
      "From Specific exception block :: invalid literal for int() with base 10: 'as'\n",
      "First No :10\n",
      "Second No :0\n",
      "From Any exception block :: division by zero\n"
     ]
    }
   ],
   "source": [
    "#8. Write code for the following given scenario and add try-exception block to it.\n",
    "#a. Program to divide two numbers\n",
    "try :\n",
    "    a = int(input('Input First No :'))\n",
    "    b = int(input('Input First No :'))\n",
    "    \n",
    "    result = a/b\n",
    "except ZeroDivisionError as ze:\n",
    "    print('ENcoutered Issue ',ze)\n",
    "\n",
    "#b. Program to convert a string to an integer\n",
    "try :\n",
    "    inp = int(input('Enter the value : ')) # Try to enter string value in block\n",
    "except ValueError as ve:\n",
    "    print('Value Error Trying to convert string to integer : ', ve)\n",
    "\n",
    "#c. Program to access an element in a list\n",
    "try :\n",
    "    ls1 = [1,2,3,4,5,6,7,8,9,0]\n",
    "    print(ls1[11])\n",
    "except IndexError as iee:\n",
    "    print('Accessing object which are Out of Idnex :',iee)\n",
    "#d. Program to handle a specific exception\n",
    "try: \n",
    "    n = int(input('First No :'))\n",
    "    d = int(input('Second No :'))\n",
    "    result = n/d\n",
    "    print('Result', result)\n",
    "except ZeroDivisionError as z:\n",
    "    print('From Specific exception block ::',z)\n",
    "except ValueError as v:\n",
    "    print('From Specific exception block ::',v)\n",
    "#e. Program to handle any exception\n",
    "try: \n",
    "    n = int(input('First No :'))\n",
    "    d = int(input('Second No :'))\n",
    "    result = n/d\n",
    "    print('Result', result)\n",
    "except Exception as e:\n",
    "    print('From Any exception block ::', e)\n"
   ]
  },
  {
   "cell_type": "code",
   "execution_count": null,
   "id": "ac9cd75c",
   "metadata": {},
   "outputs": [],
   "source": []
  }
 ],
 "metadata": {
  "kernelspec": {
   "display_name": "Python 3 (ipykernel)",
   "language": "python",
   "name": "python3"
  },
  "language_info": {
   "codemirror_mode": {
    "name": "ipython",
    "version": 3
   },
   "file_extension": ".py",
   "mimetype": "text/x-python",
   "name": "python",
   "nbconvert_exporter": "python",
   "pygments_lexer": "ipython3",
   "version": "3.10.9"
  }
 },
 "nbformat": 4,
 "nbformat_minor": 5
}
