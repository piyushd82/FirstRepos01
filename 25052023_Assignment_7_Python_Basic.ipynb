{
 "cells": [
  {
   "cell_type": "markdown",
   "id": "00570c6f",
   "metadata": {},
   "source": [
    "# Q.1. Create two int type variables, apply addition, subtraction, division and multiplications and store the results in variables. Then print the data in the following format by calling the variables:\n",
    "First variable is __ & second variable is __.\n",
    "Addition: __ + __ = __\n",
    "Subtraction: __ - __ = __\n",
    "Multiplication: __ * __ = __\n",
    "Division: __ / __ = __\n"
   ]
  },
  {
   "cell_type": "code",
   "execution_count": 4,
   "id": "cc081e10",
   "metadata": {},
   "outputs": [
    {
     "name": "stdout",
     "output_type": "stream",
     "text": [
      "First Variable is  5  & Second variable is  b\n",
      "Addition:  5  +  6  =  11\n",
      "Substraction:  5  -  6  =  -1\n",
      "Multiplication:  5  *  6  =  30\n",
      "Division:  5  /  6  =  0.8333333333333334\n"
     ]
    }
   ],
   "source": [
    "a = 5\n",
    "b = 6\n",
    "\n",
    "print('First Variable is ', a, ' & Second variable is ', 'b')\n",
    "print('Addition: ',a, ' + ', b, ' = ', a+b)\n",
    "print('Substraction: ',a, ' - ', b, ' = ', a-b)\n",
    "print('Multiplication: ',a, ' * ', b, ' = ', a*b)\n",
    "print('Division: ',a, ' / ', b, ' = ', a/b)"
   ]
  },
  {
   "cell_type": "markdown",
   "id": "17a8260e",
   "metadata": {},
   "source": [
    "# Q.2. What is the difference between the following operators:\n",
    "(i) ‘/’ & ‘//’\n",
    "(ii) ‘**’ & ‘^’\n"
   ]
  },
  {
   "cell_type": "code",
   "execution_count": 6,
   "id": "964e7e56",
   "metadata": {},
   "outputs": [
    {
     "name": "stdout",
     "output_type": "stream",
     "text": [
      "First Condition Ouput  2.5\n",
      "Second Condition Ouput  2\n",
      "Binary value :  0b101\n",
      "Binary value :  0b110\n",
      "Third  Condition Ouput  15625\n",
      "Fourth  Condition Ouput  3  Binary value of output  0b11\n"
     ]
    }
   ],
   "source": [
    "a = 100\n",
    "b = 40\n",
    "\n",
    "# (i) ‘/’ & ‘//’\n",
    "#Division\n",
    "c = a/b\n",
    "print('First Condition Ouput ', c)\n",
    "## // it return integer value for division and discard decimal place value\n",
    "c = a//b\n",
    "print('Second Condition Ouput ', c)\n",
    "#(ii) ‘**’ & ‘^’\n",
    "\n",
    "d = 5\n",
    "e = 6\n",
    "\n",
    "print('Binary value : ' , bin(5))\n",
    "print('Binary value : ', bin(6))\n",
    "# Muliplication of value 'Base value' ** \"Multiplication occurance i.e power (Square, cube etc)\"\n",
    "c = d ** e\n",
    "print('Third  Condition Ouput ', c)\n",
    "## ^ XOR : Operator used for bit comparision of value passed in variable \n",
    "c = d ^ e\n",
    "print('Fourth  Condition Ouput ', c ,  \" Binary value of output \",bin(c))\n"
   ]
  },
  {
   "cell_type": "markdown",
   "id": "1f6ace1f",
   "metadata": {},
   "source": [
    "# Q.3. List the logical operators.\n",
    "# Follwing are logical operator;\n",
    "\n"
   ]
  },
  {
   "cell_type": "code",
   "execution_count": 17,
   "id": "6d4907dc",
   "metadata": {},
   "outputs": [
    {
     "name": "stdout",
     "output_type": "stream",
     "text": [
      "And Condition : False\n",
      "Or Condition : True\n",
      "Not Condition : True\n"
     ]
    }
   ],
   "source": [
    "a = True\n",
    "b = False\n",
    "#And\n",
    "print('And Condition :', a and b)\n",
    " \n",
    "# or\n",
    "print('Or Condition :',a or b)\n",
    "\n",
    "#Not\n",
    "print('Not Condition :', not b)"
   ]
  },
  {
   "cell_type": "markdown",
   "id": "466b4fba",
   "metadata": {},
   "source": [
    "# Q.4. Explain right shift operator and left shift operator with examples.\n"
   ]
  },
  {
   "cell_type": "code",
   "execution_count": 21,
   "id": "eb2858f1",
   "metadata": {},
   "outputs": [
    {
     "name": "stdout",
     "output_type": "stream",
     "text": [
      "3\n",
      "16\n"
     ]
    }
   ],
   "source": [
    "#Right shift operator shifts bits to right by a specfiied number after operator \n",
    "\n",
    "a = 125\n",
    "\n",
    "b = a >> 5\n",
    "print (b)\n",
    "\n",
    "#Left shift operator shifts bits to left by a specfiied number after operator i.e. multiply the number\n",
    "\n",
    "a = 2\n",
    "b = a << 3\n",
    "print(b)\n"
   ]
  },
  {
   "cell_type": "markdown",
   "id": "442ef92b",
   "metadata": {},
   "source": [
    "# Q.5. Create a list containing int type data of length 15. Then write a code to check if 10 is present in the list or not."
   ]
  },
  {
   "cell_type": "code",
   "execution_count": 13,
   "id": "568ada67",
   "metadata": {},
   "outputs": [
    {
     "name": "stdout",
     "output_type": "stream",
     "text": [
      "Total items in List  15\n",
      "List contains the value at index  11\n"
     ]
    }
   ],
   "source": [
    "asmt_list = [1,2,3.14, 5j, True,  'a', 'piyush', 'doraya', 'fsds', 41,'bln', 10, 77, 890, \"Hello world\"]\n",
    "print(\"Total items in List \", len(asmt_list))\n",
    "length = len(asmt_list)\n",
    "for i in range(0,length):\n",
    "    a = asmt_list[i]\n",
    "    if a == 10:\n",
    "        print('List contains the value at index ', i)"
   ]
  },
  {
   "cell_type": "code",
   "execution_count": null,
   "id": "2d1b80ea",
   "metadata": {},
   "outputs": [],
   "source": []
  }
 ],
 "metadata": {
  "kernelspec": {
   "display_name": "Python 3 (ipykernel)",
   "language": "python",
   "name": "python3"
  },
  "language_info": {
   "codemirror_mode": {
    "name": "ipython",
    "version": 3
   },
   "file_extension": ".py",
   "mimetype": "text/x-python",
   "name": "python",
   "nbconvert_exporter": "python",
   "pygments_lexer": "ipython3",
   "version": "3.10.9"
  }
 },
 "nbformat": 4,
 "nbformat_minor": 5
}
