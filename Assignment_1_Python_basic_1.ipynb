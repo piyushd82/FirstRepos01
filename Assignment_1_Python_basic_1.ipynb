{
 "cells": [
  {
   "cell_type": "markdown",
   "id": "ecfda845",
   "metadata": {},
   "source": [
    "# 1. In the below elements which of them are values or an expression? eg:- values can be integer or string and expressions will be mathematical operators.\n",
    "* : Expression\n",
    "'hello' : String\n",
    "-87.8 : Integer\n",
    "- : Expression\n",
    "/ : Expression\n",
    "+ : Expression\n",
    "6 : Interger\n",
    "\n"
   ]
  },
  {
   "cell_type": "markdown",
   "id": "4bc72a1c",
   "metadata": {},
   "source": [
    "# 2. What is the difference between string and variable?\n",
    "Variable is defined to store a certain a value to memory for the process of existing code. it resides temporarily in memory. On the other string in one of the data type which can be assigned to a variable. e.g. a = 'First Var' here in example a is variable of type string which holds a value 'First Var\"\n",
    "\n"
   ]
  },
  {
   "cell_type": "markdown",
   "id": "1bc7e551",
   "metadata": {},
   "source": [
    "# 3. Describe three different data types.\n",
    "int holder integer value, \n",
    "bool holds boolean vaue, \n",
    "str hold char and string, \n",
    "Float holds integer with decimal values \n",
    "\n"
   ]
  },
  {
   "cell_type": "markdown",
   "id": "7285de62",
   "metadata": {},
   "source": [
    "# 4. What is an expression made up of? What do all expressions do?\n",
    "Expression are used to perfrom mathematical operation over the integer data type. "
   ]
  },
  {
   "cell_type": "markdown",
   "id": "84d746db",
   "metadata": {},
   "source": [
    "# 5. This assignment statements, like spam = 10. What is the difference between an expression and a statement?\n",
    "Statement is for declear a varaible and displaying the value\n",
    "expression is assignment of value to variable. It also used for computation \n"
   ]
  },
  {
   "cell_type": "code",
   "execution_count": 6,
   "id": "d609e06d",
   "metadata": {},
   "outputs": [
    {
     "data": {
      "text/plain": [
       "'First Display'"
      ]
     },
     "execution_count": 6,
     "metadata": {},
     "output_type": "execute_result"
    }
   ],
   "source": [
    "a = 'First value' #expression \n",
    "'First Display' #Statement"
   ]
  },
  {
   "cell_type": "markdown",
   "id": "aa4bc887",
   "metadata": {},
   "source": [
    "# 6. After running the following code, what does the variable bacon contain?\n",
    "bacon = 22\n",
    "bacon + 1\n",
    "\n"
   ]
  },
  {
   "cell_type": "code",
   "execution_count": 7,
   "id": "a750f398",
   "metadata": {},
   "outputs": [
    {
     "data": {
      "text/plain": [
       "23"
      ]
     },
     "execution_count": 7,
     "metadata": {},
     "output_type": "execute_result"
    }
   ],
   "source": [
    "bacon = 22\n",
    "bacon + 1"
   ]
  },
  {
   "cell_type": "code",
   "execution_count": null,
   "id": "6cd2cf60",
   "metadata": {},
   "outputs": [],
   "source": [
    "7. What should the values of the following two terms be?\n",
    "'spam' + 'spamspam';\n",
    "'spam' * 3\n",
    "\n"
   ]
  },
  {
   "cell_type": "code",
   "execution_count": 9,
   "id": "b5621029",
   "metadata": {},
   "outputs": [
    {
     "data": {
      "text/plain": [
       "'spamspamspam'"
      ]
     },
     "execution_count": 9,
     "metadata": {},
     "output_type": "execute_result"
    }
   ],
   "source": [
    "'spam' + 'spamspam'\n"
   ]
  },
  {
   "cell_type": "code",
   "execution_count": 10,
   "id": "9b466a5e",
   "metadata": {},
   "outputs": [
    {
     "data": {
      "text/plain": [
       "'spamspamspam'"
      ]
     },
     "execution_count": 10,
     "metadata": {},
     "output_type": "execute_result"
    }
   ],
   "source": [
    "'spam'*3"
   ]
  },
  {
   "cell_type": "markdown",
   "id": "bcbb131d",
   "metadata": {},
   "source": [
    "# 8. Why is eggs a valid variable name while 100 is invalid?\n",
    "\n",
    "variable can be alphanumric but should not start with number digit it can be anywhere except first place"
   ]
  },
  {
   "cell_type": "code",
   "execution_count": 18,
   "id": "35e3f7b2",
   "metadata": {},
   "outputs": [],
   "source": [
    "eggs = 100"
   ]
  },
  {
   "cell_type": "code",
   "execution_count": 17,
   "id": "3fb50970",
   "metadata": {},
   "outputs": [],
   "source": [
    "a100 = 'eggs'"
   ]
  },
  {
   "cell_type": "code",
   "execution_count": null,
   "id": "f0a9a6a1",
   "metadata": {},
   "outputs": [],
   "source": [
    "9. What three functions can be used to get the integer, floating-point number, or string\n",
    "version of a value?\n"
   ]
  },
  {
   "cell_type": "code",
   "execution_count": 26,
   "id": "142c81d1",
   "metadata": {},
   "outputs": [
    {
     "data": {
      "text/plain": [
       "(100, 1)"
      ]
     },
     "execution_count": 26,
     "metadata": {},
     "output_type": "execute_result"
    }
   ],
   "source": [
    "a = 100\n",
    "a.as_integer_ratio()\n"
   ]
  },
  {
   "cell_type": "code",
   "execution_count": 27,
   "id": "ea8a800e",
   "metadata": {},
   "outputs": [
    {
     "data": {
      "text/plain": [
       "'100'"
      ]
     },
     "execution_count": 27,
     "metadata": {},
     "output_type": "execute_result"
    }
   ],
   "source": [
    "str(a)"
   ]
  },
  {
   "cell_type": "markdown",
   "id": "ede22952",
   "metadata": {},
   "source": [
    "# 10. Why does this expression cause an error? How can you fix it?\n",
    "'I have eaten'+ 99 + 'burritos.'\n",
    "\n",
    "String concat can be done with string value only. So in order to fix it up we need to cast integer to str."
   ]
  },
  {
   "cell_type": "code",
   "execution_count": 30,
   "id": "53524c23",
   "metadata": {},
   "outputs": [
    {
     "data": {
      "text/plain": [
       "'I have eaten 99 burritos.'"
      ]
     },
     "execution_count": 30,
     "metadata": {},
     "output_type": "execute_result"
    }
   ],
   "source": [
    "'I have eaten '+ str(99) + ' burritos.'"
   ]
  },
  {
   "cell_type": "code",
   "execution_count": null,
   "id": "2a607b4d",
   "metadata": {},
   "outputs": [],
   "source": []
  }
 ],
 "metadata": {
  "kernelspec": {
   "display_name": "Python 3 (ipykernel)",
   "language": "python",
   "name": "python3"
  },
  "language_info": {
   "codemirror_mode": {
    "name": "ipython",
    "version": 3
   },
   "file_extension": ".py",
   "mimetype": "text/x-python",
   "name": "python",
   "nbconvert_exporter": "python",
   "pygments_lexer": "ipython3",
   "version": "3.10.9"
  }
 },
 "nbformat": 4,
 "nbformat_minor": 5
}
