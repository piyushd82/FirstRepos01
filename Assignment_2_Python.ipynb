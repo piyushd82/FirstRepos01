{
 "cells": [
  {
   "cell_type": "markdown",
   "id": "f3711666",
   "metadata": {},
   "source": [
    "# What are the two values of the Boolean data type? How do you write them?"
   ]
  },
  {
   "cell_type": "code",
   "execution_count": 4,
   "id": "1bdba337",
   "metadata": {},
   "outputs": [
    {
     "data": {
      "text/plain": [
       "bool"
      ]
     },
     "execution_count": 4,
     "metadata": {},
     "output_type": "execute_result"
    }
   ],
   "source": [
    "b = True\n",
    "c = False\n",
    "\n",
    "type(b)\n",
    "type(c)"
   ]
  },
  {
   "cell_type": "code",
   "execution_count": 7,
   "id": "cfc00a4b",
   "metadata": {},
   "outputs": [
    {
     "name": "stdout",
     "output_type": "stream",
     "text": [
      "B is smallest number\n",
      "B smaller than C\n",
      "A is equal to C\n"
     ]
    }
   ],
   "source": [
    "#What are the three different types of Boolean operators?\n",
    "a = 6\n",
    "b = 4\n",
    "c = 6\n",
    "\n",
    "if a>b and b < c:\n",
    "    print(\"B is smallest number\")\n",
    "if b < c:\n",
    "    print('B smaller than C')\n",
    "if a > c or a == c:\n",
    "    print('A is equal to C')"
   ]
  },
  {
   "cell_type": "code",
   "execution_count": 8,
   "id": "ed1c5d5d",
   "metadata": {},
   "outputs": [
    {
     "name": "stdout",
     "output_type": "stream",
     "text": [
      "B is smallest number\n",
      "B smaller than C\n",
      "A is equal to C\n"
     ]
    }
   ],
   "source": [
    "#Make a list of each Boolean operator's truth tables (i.e. every possible combination of Boolean values for the operator and what it evaluate ).\n",
    "\n",
    "a = 6\n",
    "b = 4\n",
    "c = 6\n",
    "\n",
    "if a>b and b < c:\n",
    "    print(\"B is smallest number\")\n",
    "if b < c:\n",
    "    print('B smaller than C')\n",
    "if a > c or a == c:\n",
    "    print('A is equal to C')"
   ]
  },
  {
   "cell_type": "code",
   "execution_count": 9,
   "id": "81b2a0c1",
   "metadata": {},
   "outputs": [
    {
     "data": {
      "text/plain": [
       "False"
      ]
     },
     "execution_count": 9,
     "metadata": {},
     "output_type": "execute_result"
    }
   ],
   "source": [
    "#What are the values of the following expressions?\n",
    "(5 > 4) and (3 == 5)"
   ]
  },
  {
   "cell_type": "code",
   "execution_count": 10,
   "id": "b8aa9aa3",
   "metadata": {},
   "outputs": [
    {
     "data": {
      "text/plain": [
       "False"
      ]
     },
     "execution_count": 10,
     "metadata": {},
     "output_type": "execute_result"
    }
   ],
   "source": [
    "not (5 > 4)"
   ]
  },
  {
   "cell_type": "code",
   "execution_count": 11,
   "id": "b836dd68",
   "metadata": {},
   "outputs": [
    {
     "data": {
      "text/plain": [
       "True"
      ]
     },
     "execution_count": 11,
     "metadata": {},
     "output_type": "execute_result"
    }
   ],
   "source": [
    "(5 > 4) or (3 == 5)"
   ]
  },
  {
   "cell_type": "code",
   "execution_count": 12,
   "id": "6652ed79",
   "metadata": {},
   "outputs": [
    {
     "data": {
      "text/plain": [
       "False"
      ]
     },
     "execution_count": 12,
     "metadata": {},
     "output_type": "execute_result"
    }
   ],
   "source": [
    "not ((5 > 4) or (3 == 5))"
   ]
  },
  {
   "cell_type": "code",
   "execution_count": 13,
   "id": "a35a8377",
   "metadata": {},
   "outputs": [
    {
     "data": {
      "text/plain": [
       "False"
      ]
     },
     "execution_count": 13,
     "metadata": {},
     "output_type": "execute_result"
    }
   ],
   "source": [
    "(True and True) and (True == False)"
   ]
  },
  {
   "cell_type": "code",
   "execution_count": 14,
   "id": "2efd13ed",
   "metadata": {},
   "outputs": [
    {
     "data": {
      "text/plain": [
       "True"
      ]
     },
     "execution_count": 14,
     "metadata": {},
     "output_type": "execute_result"
    }
   ],
   "source": [
    "(not False) or (not True)"
   ]
  },
  {
   "cell_type": "code",
   "execution_count": 15,
   "id": "56a68c9e",
   "metadata": {},
   "outputs": [
    {
     "data": {
      "text/plain": [
       "True"
      ]
     },
     "execution_count": 15,
     "metadata": {},
     "output_type": "execute_result"
    }
   ],
   "source": [
    "# What are the six comparison operators?\n",
    "5>4\n",
    "5<6\n",
    "5==5\n",
    "5>=4\n",
    "5<=6\n",
    "5!=6"
   ]
  },
  {
   "cell_type": "code",
   "execution_count": 17,
   "id": "51b26320",
   "metadata": {},
   "outputs": [
    {
     "data": {
      "text/plain": [
       "False"
      ]
     },
     "execution_count": 17,
     "metadata": {},
     "output_type": "execute_result"
    }
   ],
   "source": [
    "#How do you tell the difference between the equal to and assignment operators?Describe a condition and when you would use one.\n",
    "#Assignment of value to variable\n",
    "a = 5\n",
    "b = 6\n",
    "#Comparision Operators\n",
    "a == b"
   ]
  },
  {
   "cell_type": "code",
   "execution_count": 18,
   "id": "7b620f6b",
   "metadata": {},
   "outputs": [
    {
     "name": "stdout",
     "output_type": "stream",
     "text": [
      "ham\n",
      "spam\n",
      "spam\n"
     ]
    }
   ],
   "source": [
    "#Identify the three blocks in this code:\n",
    "spam = 0\n",
    "#Checking spam variable value with fixed value i.e. 10. As condition false so won't go inside that loop\n",
    "if spam == 10:\n",
    "    print('eggs')\n",
    "#Checking if value greater than 5. Again it is false condition \n",
    "if spam > 5:\n",
    "    print('bacon')\n",
    "#Last condition will be called out as all above condition failed so it will print values written in else block\n",
    "else:\n",
    "    print('ham')\n",
    "    print('spam')\n",
    "    print('spam')\n"
   ]
  },
  {
   "cell_type": "code",
   "execution_count": 25,
   "id": "7165b0aa",
   "metadata": {},
   "outputs": [
    {
     "name": "stdout",
     "output_type": "stream",
     "text": [
      "4\n",
      "Spam\n"
     ]
    }
   ],
   "source": [
    "#Write code that prints Hello if 1 is stored in spam, prints Howdy if 2 is stored in spam, and prints Greetings! if anything else is stored in spam.\n",
    "\n",
    "a = int(input())\n",
    "\n",
    "if a == 1:\n",
    "    print('Hello')\n",
    "elif a == 2:\n",
    "    print('Greetings!!!')\n",
    "else:\n",
    "    print('Spam')"
   ]
  },
  {
   "cell_type": "code",
   "execution_count": 26,
   "id": "56ee5f87",
   "metadata": {},
   "outputs": [],
   "source": [
    "#If your programme is stuck in an endless loop, what keys you’ll press?\n",
    "#Endless loop can be closed with stop button from toolbar"
   ]
  },
  {
   "cell_type": "code",
   "execution_count": 29,
   "id": "dba03802",
   "metadata": {},
   "outputs": [
    {
     "name": "stdout",
     "output_type": "stream",
     "text": [
      "Coming in that loop\n",
      "Coming in that loop\n",
      "Coming in that loop\n",
      "Coming in that loop\n",
      "Coming in that loop\n",
      "Coming in that loop\n",
      "Coming in that loop\n",
      "Coming in that loop\n",
      "i\n"
     ]
    }
   ],
   "source": [
    "#How can you tell the difference between break and continue?\n",
    "s = 'Test String'\n",
    "for i in s:\n",
    "    if i == 'i':\n",
    "        print(i)\n",
    "        # that notes that you want to terminate rest of iterations\n",
    "        break\n",
    "    else:\n",
    "        print('Coming in that loop')\n",
    "        # that section will put it up if you don't want exceute current iteration \n",
    "        continue"
   ]
  },
  {
   "cell_type": "code",
   "execution_count": 34,
   "id": "61d2ba57",
   "metadata": {},
   "outputs": [
    {
     "name": "stdout",
     "output_type": "stream",
     "text": [
      "First Condition : 0\n",
      "First Condition : 1\n",
      "First Condition : 2\n",
      "First Condition : 3\n",
      "First Condition : 4\n",
      "First Condition : 5\n",
      "First Condition : 6\n",
      "First Condition : 7\n",
      "First Condition : 8\n",
      "First Condition : 9\n",
      "Second condition 0\n",
      "Second condition 1\n",
      "Second condition 2\n",
      "Second condition 3\n",
      "Second condition 4\n",
      "Second condition 5\n",
      "Second condition 6\n",
      "Second condition 7\n",
      "Second condition 8\n",
      "Second condition 9\n",
      "Third Condition :  0\n",
      "Third Condition :  1\n",
      "Third Condition :  2\n",
      "Third Condition :  3\n",
      "Third Condition :  4\n",
      "Third Condition :  5\n",
      "Third Condition :  6\n",
      "Third Condition :  7\n",
      "Third Condition :  8\n",
      "Third Condition :  9\n"
     ]
    }
   ],
   "source": [
    "#In a for loop, what is the difference between range(10), range(0, 10), and range(0, 10, 1)?\n",
    "# It will print all value from in range from 0 to 10\n",
    "for i in range(10):\n",
    "    print('First Condition :',i)\n",
    "# It will print all value from in range from 0 to 10\n",
    "for i in range(0, 10):\n",
    "    print('Second condition', i)\n",
    "# It is used to provide range and jump so current jump is for 1 so output remian as of other conditions\n",
    "for i in range(0, 10, 1):\n",
    "    print ('Third Condition : ', i)"
   ]
  },
  {
   "cell_type": "code",
   "execution_count": 35,
   "id": "0b8b8694",
   "metadata": {},
   "outputs": [
    {
     "name": "stdout",
     "output_type": "stream",
     "text": [
      "Print No using  for Loop :  1\n",
      "Print No using  for Loop :  2\n",
      "Print No using  for Loop :  3\n",
      "Print No using  for Loop :  4\n",
      "Print No using  for Loop :  5\n",
      "Print No using  for Loop :  6\n",
      "Print No using  for Loop :  7\n",
      "Print No using  for Loop :  8\n",
      "Print No using  for Loop :  9\n",
      "Print No using  for Loop :  10\n",
      "Print No using  While Loop :  1\n",
      "Print No using  While Loop :  2\n",
      "Print No using  While Loop :  3\n",
      "Print No using  While Loop :  4\n",
      "Print No using  While Loop :  5\n",
      "Print No using  While Loop :  6\n",
      "Print No using  While Loop :  7\n",
      "Print No using  While Loop :  8\n",
      "Print No using  While Loop :  9\n",
      "Print No using  While Loop :  10\n"
     ]
    }
   ],
   "source": [
    "## It will print all value from in range from 0 to 10\n",
    "for i in range(1, 11, 1):\n",
    "    print ('Print No using  for Loop : ', i)\n",
    "\n",
    "a = 1\n",
    "while a <= 10:\n",
    "    print('Print No using  While Loop : ', a)\n",
    "    a = a+1"
   ]
  },
  {
   "cell_type": "code",
   "execution_count": 40,
   "id": "338e4762",
   "metadata": {},
   "outputs": [
    {
     "name": "stdout",
     "output_type": "stream",
     "text": [
      "Success\n"
     ]
    }
   ],
   "source": [
    "#If you had a function named bacon() inside a module named spam, how would you call it after importing spam?\n",
    "\n",
    "def bacon(a):\n",
    "    \"\"\"This sample function to check int value and provide output\"\"\"\n",
    "    if type(a) == int:\n",
    "        print('Success')\n",
    "    else:\n",
    "        print('Fail')\n",
    "#Calling function in code\n",
    "bacon(1)"
   ]
  },
  {
   "cell_type": "code",
   "execution_count": null,
   "id": "58ed1ad3",
   "metadata": {},
   "outputs": [],
   "source": []
  }
 ],
 "metadata": {
  "kernelspec": {
   "display_name": "Python 3 (ipykernel)",
   "language": "python",
   "name": "python3"
  },
  "language_info": {
   "codemirror_mode": {
    "name": "ipython",
    "version": 3
   },
   "file_extension": ".py",
   "mimetype": "text/x-python",
   "name": "python",
   "nbconvert_exporter": "python",
   "pygments_lexer": "ipython3",
   "version": "3.10.9"
  }
 },
 "nbformat": 4,
 "nbformat_minor": 5
}
